{
  "nbformat": 4,
  "nbformat_minor": 0,
  "metadata": {
    "colab": {
      "name": "2_model_train.ipynb",
      "provenance": [],
      "collapsed_sections": [
        "aeb5KODlXhP6",
        "TaB-O2vIDvrG",
        "X6TBWuEkDrJM",
        "uHX8qJij2jJ7",
        "a4fTKnwijZh2",
        "UZ-vAaDQA4uA",
        "MBtDBoz6mMqK"
      ],
      "toc_visible": true,
      "include_colab_link": true
    },
    "kernelspec": {
      "name": "python3",
      "display_name": "Python 3"
    },
    "accelerator": "GPU",
    "widgets": {
      "application/vnd.jupyter.widget-state+json": {
        "5c2b7e3c71234295b3329cc55d0078b6": {
          "model_module": "@jupyter-widgets/controls",
          "model_name": "HBoxModel",
          "state": {
            "_view_name": "HBoxView",
            "_dom_classes": [],
            "_model_name": "HBoxModel",
            "_view_module": "@jupyter-widgets/controls",
            "_model_module_version": "1.5.0",
            "_view_count": null,
            "_view_module_version": "1.5.0",
            "box_style": "",
            "layout": "IPY_MODEL_10480b492dfe4da2ae2fecda763d1c89",
            "_model_module": "@jupyter-widgets/controls",
            "children": [
              "IPY_MODEL_3078500d0d4b495592017d117c9ce523",
              "IPY_MODEL_4147cae2b7494db69cdcda35f0122671"
            ]
          }
        },
        "10480b492dfe4da2ae2fecda763d1c89": {
          "model_module": "@jupyter-widgets/base",
          "model_name": "LayoutModel",
          "state": {
            "_view_name": "LayoutView",
            "grid_template_rows": null,
            "right": null,
            "justify_content": null,
            "_view_module": "@jupyter-widgets/base",
            "overflow": null,
            "_model_module_version": "1.2.0",
            "_view_count": null,
            "flex_flow": null,
            "width": null,
            "min_width": null,
            "border": null,
            "align_items": null,
            "bottom": null,
            "_model_module": "@jupyter-widgets/base",
            "top": null,
            "grid_column": null,
            "overflow_y": null,
            "overflow_x": null,
            "grid_auto_flow": null,
            "grid_area": null,
            "grid_template_columns": null,
            "flex": null,
            "_model_name": "LayoutModel",
            "justify_items": null,
            "grid_row": null,
            "max_height": null,
            "align_content": null,
            "visibility": null,
            "align_self": null,
            "height": null,
            "min_height": null,
            "padding": null,
            "grid_auto_rows": null,
            "grid_gap": null,
            "max_width": null,
            "order": null,
            "_view_module_version": "1.2.0",
            "grid_template_areas": null,
            "object_position": null,
            "object_fit": null,
            "grid_auto_columns": null,
            "margin": null,
            "display": null,
            "left": null
          }
        },
        "3078500d0d4b495592017d117c9ce523": {
          "model_module": "@jupyter-widgets/controls",
          "model_name": "FloatProgressModel",
          "state": {
            "_view_name": "ProgressView",
            "style": "IPY_MODEL_e11fa9c64fe94bea8b4b0203cbde7343",
            "_dom_classes": [],
            "description": "100%",
            "_model_name": "FloatProgressModel",
            "bar_style": "success",
            "max": 102502400,
            "_view_module": "@jupyter-widgets/controls",
            "_model_module_version": "1.5.0",
            "value": 102502400,
            "_view_count": null,
            "_view_module_version": "1.5.0",
            "orientation": "horizontal",
            "min": 0,
            "description_tooltip": null,
            "_model_module": "@jupyter-widgets/controls",
            "layout": "IPY_MODEL_23509c824cd44b39b224ae35377cd336"
          }
        },
        "4147cae2b7494db69cdcda35f0122671": {
          "model_module": "@jupyter-widgets/controls",
          "model_name": "HTMLModel",
          "state": {
            "_view_name": "HTMLView",
            "style": "IPY_MODEL_d9927f2f10c44a4ab56da22f79745ccd",
            "_dom_classes": [],
            "description": "",
            "_model_name": "HTMLModel",
            "placeholder": "​",
            "_view_module": "@jupyter-widgets/controls",
            "_model_module_version": "1.5.0",
            "value": " 97.8M/97.8M [00:00&lt;00:00, 155MB/s]",
            "_view_count": null,
            "_view_module_version": "1.5.0",
            "description_tooltip": null,
            "_model_module": "@jupyter-widgets/controls",
            "layout": "IPY_MODEL_66197ca083ea4746ab718013a712a834"
          }
        },
        "e11fa9c64fe94bea8b4b0203cbde7343": {
          "model_module": "@jupyter-widgets/controls",
          "model_name": "ProgressStyleModel",
          "state": {
            "_view_name": "StyleView",
            "_model_name": "ProgressStyleModel",
            "description_width": "initial",
            "_view_module": "@jupyter-widgets/base",
            "_model_module_version": "1.5.0",
            "_view_count": null,
            "_view_module_version": "1.2.0",
            "bar_color": null,
            "_model_module": "@jupyter-widgets/controls"
          }
        },
        "23509c824cd44b39b224ae35377cd336": {
          "model_module": "@jupyter-widgets/base",
          "model_name": "LayoutModel",
          "state": {
            "_view_name": "LayoutView",
            "grid_template_rows": null,
            "right": null,
            "justify_content": null,
            "_view_module": "@jupyter-widgets/base",
            "overflow": null,
            "_model_module_version": "1.2.0",
            "_view_count": null,
            "flex_flow": null,
            "width": null,
            "min_width": null,
            "border": null,
            "align_items": null,
            "bottom": null,
            "_model_module": "@jupyter-widgets/base",
            "top": null,
            "grid_column": null,
            "overflow_y": null,
            "overflow_x": null,
            "grid_auto_flow": null,
            "grid_area": null,
            "grid_template_columns": null,
            "flex": null,
            "_model_name": "LayoutModel",
            "justify_items": null,
            "grid_row": null,
            "max_height": null,
            "align_content": null,
            "visibility": null,
            "align_self": null,
            "height": null,
            "min_height": null,
            "padding": null,
            "grid_auto_rows": null,
            "grid_gap": null,
            "max_width": null,
            "order": null,
            "_view_module_version": "1.2.0",
            "grid_template_areas": null,
            "object_position": null,
            "object_fit": null,
            "grid_auto_columns": null,
            "margin": null,
            "display": null,
            "left": null
          }
        },
        "d9927f2f10c44a4ab56da22f79745ccd": {
          "model_module": "@jupyter-widgets/controls",
          "model_name": "DescriptionStyleModel",
          "state": {
            "_view_name": "StyleView",
            "_model_name": "DescriptionStyleModel",
            "description_width": "",
            "_view_module": "@jupyter-widgets/base",
            "_model_module_version": "1.5.0",
            "_view_count": null,
            "_view_module_version": "1.2.0",
            "_model_module": "@jupyter-widgets/controls"
          }
        },
        "66197ca083ea4746ab718013a712a834": {
          "model_module": "@jupyter-widgets/base",
          "model_name": "LayoutModel",
          "state": {
            "_view_name": "LayoutView",
            "grid_template_rows": null,
            "right": null,
            "justify_content": null,
            "_view_module": "@jupyter-widgets/base",
            "overflow": null,
            "_model_module_version": "1.2.0",
            "_view_count": null,
            "flex_flow": null,
            "width": null,
            "min_width": null,
            "border": null,
            "align_items": null,
            "bottom": null,
            "_model_module": "@jupyter-widgets/base",
            "top": null,
            "grid_column": null,
            "overflow_y": null,
            "overflow_x": null,
            "grid_auto_flow": null,
            "grid_area": null,
            "grid_template_columns": null,
            "flex": null,
            "_model_name": "LayoutModel",
            "justify_items": null,
            "grid_row": null,
            "max_height": null,
            "align_content": null,
            "visibility": null,
            "align_self": null,
            "height": null,
            "min_height": null,
            "padding": null,
            "grid_auto_rows": null,
            "grid_gap": null,
            "max_width": null,
            "order": null,
            "_view_module_version": "1.2.0",
            "grid_template_areas": null,
            "object_position": null,
            "object_fit": null,
            "grid_auto_columns": null,
            "margin": null,
            "display": null,
            "left": null
          }
        },
        "6ac014d16a8443ff84b338ae8f330d2b": {
          "model_module": "@jupyter-widgets/controls",
          "model_name": "HBoxModel",
          "state": {
            "_view_name": "HBoxView",
            "_dom_classes": [],
            "_model_name": "HBoxModel",
            "_view_module": "@jupyter-widgets/controls",
            "_model_module_version": "1.5.0",
            "_view_count": null,
            "_view_module_version": "1.5.0",
            "box_style": "",
            "layout": "IPY_MODEL_3dc6187a17684fcb8eaef17f0954e15a",
            "_model_module": "@jupyter-widgets/controls",
            "children": [
              "IPY_MODEL_0486b7bf68b543538d26566cbc19bb77",
              "IPY_MODEL_557e1e1d104e4fbdbba7f23ad1934669"
            ]
          }
        },
        "3dc6187a17684fcb8eaef17f0954e15a": {
          "model_module": "@jupyter-widgets/base",
          "model_name": "LayoutModel",
          "state": {
            "_view_name": "LayoutView",
            "grid_template_rows": null,
            "right": null,
            "justify_content": null,
            "_view_module": "@jupyter-widgets/base",
            "overflow": null,
            "_model_module_version": "1.2.0",
            "_view_count": null,
            "flex_flow": null,
            "width": null,
            "min_width": null,
            "border": null,
            "align_items": null,
            "bottom": null,
            "_model_module": "@jupyter-widgets/base",
            "top": null,
            "grid_column": null,
            "overflow_y": null,
            "overflow_x": null,
            "grid_auto_flow": null,
            "grid_area": null,
            "grid_template_columns": null,
            "flex": null,
            "_model_name": "LayoutModel",
            "justify_items": null,
            "grid_row": null,
            "max_height": null,
            "align_content": null,
            "visibility": null,
            "align_self": null,
            "height": null,
            "min_height": null,
            "padding": null,
            "grid_auto_rows": null,
            "grid_gap": null,
            "max_width": null,
            "order": null,
            "_view_module_version": "1.2.0",
            "grid_template_areas": null,
            "object_position": null,
            "object_fit": null,
            "grid_auto_columns": null,
            "margin": null,
            "display": null,
            "left": null
          }
        },
        "0486b7bf68b543538d26566cbc19bb77": {
          "model_module": "@jupyter-widgets/controls",
          "model_name": "FloatProgressModel",
          "state": {
            "_view_name": "ProgressView",
            "style": "IPY_MODEL_260d27aa93af40e7999367849df5f277",
            "_dom_classes": [],
            "description": "100%",
            "_model_name": "FloatProgressModel",
            "bar_style": "success",
            "max": 141567418,
            "_view_module": "@jupyter-widgets/controls",
            "_model_module_version": "1.5.0",
            "value": 141567418,
            "_view_count": null,
            "_view_module_version": "1.5.0",
            "orientation": "horizontal",
            "min": 0,
            "description_tooltip": null,
            "_model_module": "@jupyter-widgets/controls",
            "layout": "IPY_MODEL_1b2952a42a1f496aba07b8677a5ae030"
          }
        },
        "557e1e1d104e4fbdbba7f23ad1934669": {
          "model_module": "@jupyter-widgets/controls",
          "model_name": "HTMLModel",
          "state": {
            "_view_name": "HTMLView",
            "style": "IPY_MODEL_9a73859006a64cb2b361f08f665a8fc7",
            "_dom_classes": [],
            "description": "",
            "_model_name": "HTMLModel",
            "placeholder": "​",
            "_view_module": "@jupyter-widgets/controls",
            "_model_module_version": "1.5.0",
            "value": " 135M/135M [00:01&lt;00:00, 88.6MB/s]",
            "_view_count": null,
            "_view_module_version": "1.5.0",
            "description_tooltip": null,
            "_model_module": "@jupyter-widgets/controls",
            "layout": "IPY_MODEL_6393f672b199474e915d5d17bda2648b"
          }
        },
        "260d27aa93af40e7999367849df5f277": {
          "model_module": "@jupyter-widgets/controls",
          "model_name": "ProgressStyleModel",
          "state": {
            "_view_name": "StyleView",
            "_model_name": "ProgressStyleModel",
            "description_width": "initial",
            "_view_module": "@jupyter-widgets/base",
            "_model_module_version": "1.5.0",
            "_view_count": null,
            "_view_module_version": "1.2.0",
            "bar_color": null,
            "_model_module": "@jupyter-widgets/controls"
          }
        },
        "1b2952a42a1f496aba07b8677a5ae030": {
          "model_module": "@jupyter-widgets/base",
          "model_name": "LayoutModel",
          "state": {
            "_view_name": "LayoutView",
            "grid_template_rows": null,
            "right": null,
            "justify_content": null,
            "_view_module": "@jupyter-widgets/base",
            "overflow": null,
            "_model_module_version": "1.2.0",
            "_view_count": null,
            "flex_flow": null,
            "width": null,
            "min_width": null,
            "border": null,
            "align_items": null,
            "bottom": null,
            "_model_module": "@jupyter-widgets/base",
            "top": null,
            "grid_column": null,
            "overflow_y": null,
            "overflow_x": null,
            "grid_auto_flow": null,
            "grid_area": null,
            "grid_template_columns": null,
            "flex": null,
            "_model_name": "LayoutModel",
            "justify_items": null,
            "grid_row": null,
            "max_height": null,
            "align_content": null,
            "visibility": null,
            "align_self": null,
            "height": null,
            "min_height": null,
            "padding": null,
            "grid_auto_rows": null,
            "grid_gap": null,
            "max_width": null,
            "order": null,
            "_view_module_version": "1.2.0",
            "grid_template_areas": null,
            "object_position": null,
            "object_fit": null,
            "grid_auto_columns": null,
            "margin": null,
            "display": null,
            "left": null
          }
        },
        "9a73859006a64cb2b361f08f665a8fc7": {
          "model_module": "@jupyter-widgets/controls",
          "model_name": "DescriptionStyleModel",
          "state": {
            "_view_name": "StyleView",
            "_model_name": "DescriptionStyleModel",
            "description_width": "",
            "_view_module": "@jupyter-widgets/base",
            "_model_module_version": "1.5.0",
            "_view_count": null,
            "_view_module_version": "1.2.0",
            "_model_module": "@jupyter-widgets/controls"
          }
        },
        "6393f672b199474e915d5d17bda2648b": {
          "model_module": "@jupyter-widgets/base",
          "model_name": "LayoutModel",
          "state": {
            "_view_name": "LayoutView",
            "grid_template_rows": null,
            "right": null,
            "justify_content": null,
            "_view_module": "@jupyter-widgets/base",
            "overflow": null,
            "_model_module_version": "1.2.0",
            "_view_count": null,
            "flex_flow": null,
            "width": null,
            "min_width": null,
            "border": null,
            "align_items": null,
            "bottom": null,
            "_model_module": "@jupyter-widgets/base",
            "top": null,
            "grid_column": null,
            "overflow_y": null,
            "overflow_x": null,
            "grid_auto_flow": null,
            "grid_area": null,
            "grid_template_columns": null,
            "flex": null,
            "_model_name": "LayoutModel",
            "justify_items": null,
            "grid_row": null,
            "max_height": null,
            "align_content": null,
            "visibility": null,
            "align_self": null,
            "height": null,
            "min_height": null,
            "padding": null,
            "grid_auto_rows": null,
            "grid_gap": null,
            "max_width": null,
            "order": null,
            "_view_module_version": "1.2.0",
            "grid_template_areas": null,
            "object_position": null,
            "object_fit": null,
            "grid_auto_columns": null,
            "margin": null,
            "display": null,
            "left": null
          }
        }
      }
    }
  },
  "cells": [
    {
      "cell_type": "markdown",
      "metadata": {
        "id": "view-in-github",
        "colab_type": "text"
      },
      "source": [
        "<a href=\"https://colab.research.google.com/github/oliv-ia/C3-segmentation/blob/main/2_model_train.ipynb\" target=\"_parent\"><img src=\"https://colab.research.google.com/assets/colab-badge.svg\" alt=\"Open In Colab\"/></a>"
      ]
    },
    {
      "cell_type": "markdown",
      "metadata": {
        "id": "aeb5KODlXhP6"
      },
      "source": [
        "#Starting using pytorch\n",
        " From this guys video: https://www.youtube.com/watch?v=9aYuQmMJvjA\n",
        "\n",
        " and this guys: https://www.youtube.com/watch?v=lEtr9nnO5FI\n",
        " \n",
        " Helpful webpage on transfer learning for VGG16: https://debuggercafe.com/transfer-learning-with-pytorch/"
      ]
    },
    {
      "cell_type": "markdown",
      "metadata": {
        "id": "aY3Euqz3xvUD"
      },
      "source": [
        "Image segmentation using fcn resnet. Need to classify pixels as muscle or not_muscle."
      ]
    },
    {
      "cell_type": "code",
      "metadata": {
        "id": "JhVb5UCGe0vH"
      },
      "source": [
        "import matplotlib.pyplot as plt\n",
        "%matplotlib inline\n",
        "#import SimpleITK as sitk\n",
        "import numpy as np\n",
        "import os\n",
        "from scipy import ndimage\n",
        "import cv2\n",
        "from google.colab.patches import cv2_imshow"
      ],
      "execution_count": null,
      "outputs": []
    },
    {
      "cell_type": "code",
      "metadata": {
        "id": "NmjqE3km9bTr",
        "colab": {
          "base_uri": "https://localhost:8080/"
        },
        "outputId": "f9280490-121a-4b50-f9b0-a3298dd80300"
      },
      "source": [
        "!pip install segmentation-models-pytorch"
      ],
      "execution_count": null,
      "outputs": [
        {
          "output_type": "stream",
          "text": [
            "Collecting segmentation-models-pytorch\n",
            "\u001b[?25l  Downloading https://files.pythonhosted.org/packages/65/54/8953f9f7ee9d451b0f3be8d635aa3a654579abf898d17502a090efe1155a/segmentation_models_pytorch-0.1.3-py3-none-any.whl (66kB)\n",
            "\r\u001b[K     |█████                           | 10kB 22.9MB/s eta 0:00:01\r\u001b[K     |██████████                      | 20kB 29.0MB/s eta 0:00:01\r\u001b[K     |██████████████▉                 | 30kB 24.1MB/s eta 0:00:01\r\u001b[K     |███████████████████▉            | 40kB 21.1MB/s eta 0:00:01\r\u001b[K     |████████████████████████▉       | 51kB 21.9MB/s eta 0:00:01\r\u001b[K     |█████████████████████████████▊  | 61kB 16.0MB/s eta 0:00:01\r\u001b[K     |████████████████████████████████| 71kB 7.6MB/s \n",
            "\u001b[?25hCollecting efficientnet-pytorch==0.6.3\n",
            "  Downloading https://files.pythonhosted.org/packages/b8/cb/0309a6e3d404862ae4bc017f89645cf150ac94c14c88ef81d215c8e52925/efficientnet_pytorch-0.6.3.tar.gz\n",
            "Requirement already satisfied: torchvision>=0.3.0 in /usr/local/lib/python3.6/dist-packages (from segmentation-models-pytorch) (0.8.1+cu101)\n",
            "Collecting pretrainedmodels==0.7.4\n",
            "\u001b[?25l  Downloading https://files.pythonhosted.org/packages/84/0e/be6a0e58447ac16c938799d49bfb5fb7a80ac35e137547fc6cee2c08c4cf/pretrainedmodels-0.7.4.tar.gz (58kB)\n",
            "\u001b[K     |████████████████████████████████| 61kB 8.5MB/s \n",
            "\u001b[?25hCollecting timm==0.3.2\n",
            "\u001b[?25l  Downloading https://files.pythonhosted.org/packages/51/2d/39ecc56fbb202e1891c317e8e44667299bc3b0762ea2ed6aaaa2c2f6613c/timm-0.3.2-py3-none-any.whl (244kB)\n",
            "\u001b[K     |████████████████████████████████| 245kB 38.7MB/s \n",
            "\u001b[?25hRequirement already satisfied: torch in /usr/local/lib/python3.6/dist-packages (from efficientnet-pytorch==0.6.3->segmentation-models-pytorch) (1.7.0+cu101)\n",
            "Requirement already satisfied: pillow>=4.1.1 in /usr/local/lib/python3.6/dist-packages (from torchvision>=0.3.0->segmentation-models-pytorch) (7.0.0)\n",
            "Requirement already satisfied: numpy in /usr/local/lib/python3.6/dist-packages (from torchvision>=0.3.0->segmentation-models-pytorch) (1.19.5)\n",
            "Collecting munch\n",
            "  Downloading https://files.pythonhosted.org/packages/cc/ab/85d8da5c9a45e072301beb37ad7f833cd344e04c817d97e0cc75681d248f/munch-2.5.0-py2.py3-none-any.whl\n",
            "Requirement already satisfied: tqdm in /usr/local/lib/python3.6/dist-packages (from pretrainedmodels==0.7.4->segmentation-models-pytorch) (4.41.1)\n",
            "Requirement already satisfied: typing-extensions in /usr/local/lib/python3.6/dist-packages (from torch->efficientnet-pytorch==0.6.3->segmentation-models-pytorch) (3.7.4.3)\n",
            "Requirement already satisfied: dataclasses in /usr/local/lib/python3.6/dist-packages (from torch->efficientnet-pytorch==0.6.3->segmentation-models-pytorch) (0.8)\n",
            "Requirement already satisfied: future in /usr/local/lib/python3.6/dist-packages (from torch->efficientnet-pytorch==0.6.3->segmentation-models-pytorch) (0.16.0)\n",
            "Requirement already satisfied: six in /usr/local/lib/python3.6/dist-packages (from munch->pretrainedmodels==0.7.4->segmentation-models-pytorch) (1.15.0)\n",
            "Building wheels for collected packages: efficientnet-pytorch, pretrainedmodels\n",
            "  Building wheel for efficientnet-pytorch (setup.py) ... \u001b[?25l\u001b[?25hdone\n",
            "  Created wheel for efficientnet-pytorch: filename=efficientnet_pytorch-0.6.3-cp36-none-any.whl size=12421 sha256=54304f494cba190e98b559b6a1b68923c6fd8603860e7850a95d307f7161a349\n",
            "  Stored in directory: /root/.cache/pip/wheels/42/1e/a9/2a578ba9ad04e776e80bf0f70d8a7f4c29ec0718b92d8f6ccd\n",
            "  Building wheel for pretrainedmodels (setup.py) ... \u001b[?25l\u001b[?25hdone\n",
            "  Created wheel for pretrainedmodels: filename=pretrainedmodels-0.7.4-cp36-none-any.whl size=60963 sha256=8d2edfea95556c07e772f0f4fba1b710a3ff60f70ad62754c8255aee3732f702\n",
            "  Stored in directory: /root/.cache/pip/wheels/69/df/63/62583c096289713f22db605aa2334de5b591d59861a02c2ecd\n",
            "Successfully built efficientnet-pytorch pretrainedmodels\n",
            "Installing collected packages: efficientnet-pytorch, munch, pretrainedmodels, timm, segmentation-models-pytorch\n",
            "Successfully installed efficientnet-pytorch-0.6.3 munch-2.5.0 pretrainedmodels-0.7.4 segmentation-models-pytorch-0.1.3 timm-0.3.2\n"
          ],
          "name": "stdout"
        }
      ]
    },
    {
      "cell_type": "code",
      "metadata": {
        "id": "kLu71byiMtnm",
        "colab": {
          "base_uri": "https://localhost:8080/"
        },
        "outputId": "4dc836de-2c3e-42bf-9baf-e3a98d1a30c4"
      },
      "source": [
        "!pip install torchsummary"
      ],
      "execution_count": null,
      "outputs": [
        {
          "output_type": "stream",
          "text": [
            "Requirement already satisfied: torchsummary in /usr/local/lib/python3.6/dist-packages (1.5.1)\n"
          ],
          "name": "stdout"
        }
      ]
    },
    {
      "cell_type": "code",
      "metadata": {
        "id": "27p5vkI7qjf3"
      },
      "source": [
        "import torch\n",
        "import torch.nn as nn\n",
        "import torch.nn.functional as F\n",
        "from torch.utils.data import DataLoader, TensorDataset, Dataset\n",
        "import torch.optim as optim\n",
        "from torch.optim import lr_scheduler\n",
        "import torchvision\n",
        "from torchvision import datasets, models, transforms\n",
        "import segmentation_models_pytorch as smp\n",
        "from PIL import Image\n",
        "import time\n",
        "from __future__ import division\n",
        "import copy\n",
        "%load_ext tensorboard\n",
        "from tqdm import tqdm\n",
        "import sklearn"
      ],
      "execution_count": null,
      "outputs": []
    },
    {
      "cell_type": "code",
      "metadata": {
        "id": "-OT8La-gjIUC",
        "colab": {
          "base_uri": "https://localhost:8080/"
        },
        "outputId": "a6e199ea-5e3b-484e-d5ab-187ab30e6b77"
      },
      "source": [
        "import tensorflow as tf\n",
        "tf.test.gpu_device_name()\n",
        "from tensorflow.python.client import device_lib\n",
        "device_lib.list_local_devices()"
      ],
      "execution_count": null,
      "outputs": [
        {
          "output_type": "execute_result",
          "data": {
            "text/plain": [
              "[name: \"/device:CPU:0\"\n",
              " device_type: \"CPU\"\n",
              " memory_limit: 268435456\n",
              " locality {\n",
              " }\n",
              " incarnation: 986924332717784181, name: \"/device:GPU:0\"\n",
              " device_type: \"GPU\"\n",
              " memory_limit: 13812874624\n",
              " locality {\n",
              "   bus_id: 1\n",
              "   links {\n",
              "   }\n",
              " }\n",
              " incarnation: 6353984298616085222\n",
              " physical_device_desc: \"device: 0, name: Tesla T4, pci bus id: 0000:00:04.0, compute capability: 7.5\"]"
            ]
          },
          "metadata": {
            "tags": []
          },
          "execution_count": 5
        }
      ]
    },
    {
      "cell_type": "markdown",
      "metadata": {
        "id": "TaB-O2vIDvrG"
      },
      "source": [
        "#Useful definitions"
      ]
    },
    {
      "cell_type": "markdown",
      "metadata": {
        "id": "d-q5Mqu60A4o"
      },
      "source": [
        "getting the learning rate"
      ]
    },
    {
      "cell_type": "code",
      "metadata": {
        "id": "uFCs6OTjDvAe"
      },
      "source": [
        "def get_lr(optimizer):\n",
        "    for param_group in optimizer.param_groups:\n",
        "        return param_group['lr']"
      ],
      "execution_count": null,
      "outputs": []
    },
    {
      "cell_type": "markdown",
      "metadata": {
        "id": "OtSkWlLybBZw"
      },
      "source": [
        "#Loading the training data from a python dictionary."
      ]
    },
    {
      "cell_type": "code",
      "metadata": {
        "id": "zTa7h9UGc90b"
      },
      "source": [
        "data = np.load(\"/content/training_data_h_38_cropped.npz\", allow_pickle=True)\n",
        "slices = data['slices']\n",
        "masks = data['masks']\n",
        "ids = data['ids']\n",
        "#data_a = np.load(\"/content/training_data_h_38_area.npz\", allow_pickle=True)\n",
        "#areas = data_a['pixel_areas']"
      ],
      "execution_count": null,
      "outputs": []
    },
    {
      "cell_type": "code",
      "metadata": {
        "colab": {
          "base_uri": "https://localhost:8080/"
        },
        "id": "BVVQU_ECgNiz",
        "outputId": "caa833c1-6780-452d-a6c5-b1f85a04bd57"
      },
      "source": [
        "[*data.keys()]"
      ],
      "execution_count": null,
      "outputs": [
        {
          "output_type": "execute_result",
          "data": {
            "text/plain": [
              "['slices', 'masks', 'ids']"
            ]
          },
          "metadata": {
            "tags": []
          },
          "execution_count": 21
        }
      ]
    },
    {
      "cell_type": "code",
      "metadata": {
        "colab": {
          "base_uri": "https://localhost:8080/"
        },
        "id": "8E7ZHfgTixyW",
        "outputId": "1f98c47b-a3e1-4677-a393-37f3d801d53b"
      },
      "source": [
        "print(areas)"
      ],
      "execution_count": null,
      "outputs": [
        {
          "output_type": "stream",
          "text": [
            "[0.87890625 0.95367432 0.95367432 0.87890625 0.95366943 0.95366943\n",
            " 0.87890625 0.95367339 0.87890625 0.95366943 0.95366943 0.95366943\n",
            " 0.95366943 0.95367432 0.95366943 0.95366943 0.87890625 0.95366943\n",
            " 0.95367432 0.95367432 0.95367432 0.95367432 0.95367339 0.87890625\n",
            " 0.87890625 0.87890625 0.95367432 0.95367432 0.87890625 0.87890625\n",
            " 0.87890625 0.87890625 0.95367432 0.4673005  0.95367432]\n"
          ],
          "name": "stdout"
        }
      ]
    },
    {
      "cell_type": "markdown",
      "metadata": {
        "id": "jDPziRckrml-"
      },
      "source": [
        "#Preprocessing\n"
      ]
    },
    {
      "cell_type": "markdown",
      "metadata": {
        "id": "sJUTr8HnjKGZ"
      },
      "source": [
        "Set the window and level here. 50:350HU for soft tissue"
      ]
    },
    {
      "cell_type": "code",
      "metadata": {
        "id": "CG8F6EY-16Mq"
      },
      "source": [
        "def preprocess(slice_array, masks_array):\n",
        "  from sklearn.preprocessing import MinMaxScaler\n",
        "  scaler = MinMaxScaler()\n",
        "  window = 350\n",
        "  level = 50\n",
        "  size = len(masks_array)\n",
        "  vmin = (level/2) - window\n",
        "  vmax = (level/2) + window\n",
        "  processed_slices = []\n",
        "  processed_masks = (np.nan_to_num(masks_array)).astype(np.float64)\n",
        "  for i in range (0, size):\n",
        "    slice_array[i][slice_array[i]>vmax] = vmax\n",
        "    slice_array[i][slice_array[i]<vmin] = vmin\n",
        "    shape = slice_array[i].shape\n",
        "    image_scaled = np.round(sklearn.preprocessing.minmax_scale(slice_array[i].ravel(), feature_range=(0,1)), decimals = 10).reshape(shape)\n",
        "    processed_slices.append(image_scaled)\n",
        "    processed_masks[i][processed_masks[i]>1] = 1\n",
        "  processed_slices = np.array(processed_slices)\n",
        "  return processed_slices, processed_masks"
      ],
      "execution_count": null,
      "outputs": []
    },
    {
      "cell_type": "code",
      "metadata": {
        "colab": {
          "base_uri": "https://localhost:8080/"
        },
        "id": "w67q9zQo3I3_",
        "outputId": "f21a148b-148e-4483-bfdc-9274bf7fe27c"
      },
      "source": [
        "slices_processed, masks_processed = preprocess(slices, masks)\n",
        "print(slices_processed[0].min(), slices_processed[0].max())\n",
        "print(masks_processed[0].min(), masks_processed[0].max())\n",
        "print(slices_processed.shape)\n",
        "print(masks_processed.shape)"
      ],
      "execution_count": null,
      "outputs": [
        {
          "output_type": "stream",
          "text": [
            "0.0 1.0\n",
            "0.0 1.0\n",
            "(35, 260, 260)\n",
            "(35, 260, 260)\n"
          ],
          "name": "stdout"
        }
      ]
    },
    {
      "cell_type": "markdown",
      "metadata": {
        "id": "8JfHW2dq2nbb"
      },
      "source": [
        "#Split the data"
      ]
    },
    {
      "cell_type": "markdown",
      "metadata": {
        "id": "ui_1F45_Hem2"
      },
      "source": [
        "split into train, val and test data"
      ]
    },
    {
      "cell_type": "code",
      "metadata": {
        "id": "VflqgpnJDQMH"
      },
      "source": [
        "from sklearn import preprocessing\n",
        "from sklearn.model_selection import train_test_split"
      ],
      "execution_count": null,
      "outputs": []
    },
    {
      "cell_type": "code",
      "metadata": {
        "id": "fIXTajIOIKS3",
        "colab": {
          "base_uri": "https://localhost:8080/"
        },
        "outputId": "d24e3d86-9b4a-4b65-c24b-3822d958d34a"
      },
      "source": [
        "slice_train, slice_test, masks_train, masks_test, ids_train, ids_test = train_test_split(slices_processed, masks_processed, ids, test_size=(10/35), random_state = 5)\n",
        "slice_test, slice_val, masks_test, masks_val, ids_test, ids_val = train_test_split(slice_test, masks_test, ids_test, test_size = 0.5, random_state = 5 )\n",
        "\n",
        "print(slice_train.shape)\n",
        "plt.imshow(slice_test[3,:,:], cmap = 'gray')\n",
        "plt.imshow(masks_test[3],alpha = 0.5)\n",
        "print(ids_test[1])"
      ],
      "execution_count": null,
      "outputs": [
        {
          "output_type": "stream",
          "text": [
            "(25, 260, 260)\n",
            "01-0034\n"
          ],
          "name": "stdout"
        },
        {
          "output_type": "display_data",
          "data": {
            "image/png": "[encoded data removed]",
            "text/plain": [
              "<Figure size 432x288 with 1 Axes>"
            ]
          },
          "metadata": {
            "tags": [],
            "needs_background": "light"
          }
        }
      ]
    },
    {
      "cell_type": "markdown",
      "metadata": {
        "id": "Fj7fAnDgGl5T"
      },
      "source": [
        "work out the average ratio of segmented pixels to background in our training masks."
      ]
    },
    {
      "cell_type": "code",
      "metadata": {
        "colab": {
          "base_uri": "https://localhost:8080/"
        },
        "id": "pPf9QpRzGtLJ",
        "outputId": "092e45f2-2039-4905-f685-7b8cdcc5ea3e"
      },
      "source": [
        "#ratio of no of 1s over no of 0s. averaged\n",
        "ratio = []\n",
        "for i in range(len(masks_train)):\n",
        "  no_of_0s = (masks_train[i] == 0).sum()\n",
        "  no_of_1s = (masks_train[i] == 1).sum()\n",
        "  #print(no_of_1s, no_of_0s)\n",
        "  ratio.append(no_of_1s/no_of_0s)\n",
        "\n",
        "average_ratio = np.mean(ratio)\n",
        "print(average_ratio)\n",
        "weights = (1/average_ratio) #*10 to penalise the network more harshly for getting it wrong\n",
        "weight = torch.Tensor([weights])\n",
        "print(weight)"
      ],
      "execution_count": null,
      "outputs": [
        {
          "output_type": "stream",
          "text": [
            "0.07733608289205438\n",
            "tensor([12.9306])\n"
          ],
          "name": "stdout"
        }
      ]
    },
    {
      "cell_type": "markdown",
      "metadata": {
        "id": "X6TBWuEkDrJM"
      },
      "source": [
        "#Transform the data"
      ]
    },
    {
      "cell_type": "markdown",
      "metadata": {
        "id": "To9PJOkd_iz6"
      },
      "source": [
        "Apply the transformations needed"
      ]
    },
    {
      "cell_type": "code",
      "metadata": {
        "id": "F4npGRP7_hHK"
      },
      "source": [
        "import torchvision.transforms as T"
      ],
      "execution_count": null,
      "outputs": []
    },
    {
      "cell_type": "code",
      "metadata": {
        "id": "jwvDjJTy8EhV"
      },
      "source": [
        "def genTransforms(slice_array, masks_array):\n",
        "  transform_slices = []\n",
        "  transform_masks = []\n",
        "  size = len(masks_array)\n",
        "  #masks = masks_array[:,np.newaxis,:,:]\n",
        "  if slice_array.shape != (size,3,...):\n",
        "    slices_3chan = np.repeat(slice_array[:,:,:,np.newaxis], 3, axis=-1)\n",
        "    #slice_array = np.moveaxis(slices_3chan, 3,1)\n",
        "  transform_slice = slices_3chan.astype(np.float32)\n",
        "  transform_mask = masks_array.astype(np.float32)\n",
        "  #print(\"maybe here?\",transform_mask.shape)\n",
        "  return transform_slice, transform_mask"
      ],
      "execution_count": null,
      "outputs": []
    },
    {
      "cell_type": "code",
      "metadata": {
        "id": "-s5kdP3RMt_T"
      },
      "source": [
        "def transforms(slice_array, masks_array):\r\n",
        "  trf = T.Compose([T.Normalize(mean=[0.485, 0.456, 0.406], std=[0.229, 0.224, 0.225])])\r\n",
        "  transform_slices = []\r\n",
        "  transform_masks = []\r\n",
        "  size = len(slice_array)\r\n",
        "  masks = masks_array[:,np.newaxis,:,:]\r\n",
        "  if slice_array.shape != (size,3,...):\r\n",
        "    slices_3chan = np.repeat(slice_array[:,:,:,np.newaxis], 3, axis=-1)\r\n",
        "    slice_array = np.moveaxis(slices_3chan, 3,1)\r\n",
        "  for i in range(0,size):\r\n",
        "    transform_slices.append(np.array(trf(torch.from_numpy(slice_array[i]))))\r\n",
        "    transform_masks.append(np.array(torch.from_numpy(masks[i])))\r\n",
        "  transform_slice = np.array(transform_slices)\r\n",
        "  transform_mask = np.array(transform_masks)\r\n",
        "  slices_inp = torch.from_numpy(transform_slice.astype(np.float32))\r\n",
        "  masks_inp = torch.from_numpy(transform_mask.astype(np.float32))\r\n",
        "  return slices_inp, masks_inp"
      ],
      "execution_count": null,
      "outputs": []
    },
    {
      "cell_type": "markdown",
      "metadata": {
        "id": "uHX8qJij2jJ7"
      },
      "source": [
        "#Data augmentation"
      ]
    },
    {
      "cell_type": "markdown",
      "metadata": {
        "id": "Ikb7bqgylPId"
      },
      "source": [
        "https://colab.research.google.com/github/albumentations-team/albumentations_examples/blob/colab/pytorch_semantic_segmentation.ipynb\n",
        "really useful link for the general pipeline overveiw"
      ]
    },
    {
      "cell_type": "code",
      "metadata": {
        "id": "Rh4Fd9WiATh6"
      },
      "source": [
        "import albumentations as A\n",
        "import random\n",
        "from albumentations.pytorch import ToTensor"
      ],
      "execution_count": null,
      "outputs": []
    },
    {
      "cell_type": "code",
      "metadata": {
        "id": "LAkR6gcCX164"
      },
      "source": [
        "train_transform = A.Compose([\n",
        "  A.Resize(260, 260),\n",
        "  A.RandomSizedCrop(min_max_height=(200, 260), height=260, width=260, p=0.2),\n",
        "  A.HorizontalFlip(p=0.5),\n",
        "  A.ShiftScaleRotate(shift_limit=0.0625, scale_limit=0.1, rotate_limit=20, p=0.5),\n",
        "  A.ElasticTransform(alpha=120, sigma=120 * 0.8, alpha_affine=120 * 0.05, p= 0.2),\n",
        "  A.Normalize(mean=(0.485, 0.456, 0.406), std=(0.229, 0.224, 0.225)),\n",
        "  ToTensor()\n",
        "])\n",
        "\n",
        "val_transform = A.Compose(\n",
        "    [A.Resize(260, 260), A.Normalize(mean=(0.485, 0.456, 0.406), std=(0.229, 0.224, 0.225)), ToTensor()]\n",
        ")\n",
        "\n",
        "test_transform = A.Compose(\n",
        "    [A.Resize(260, 260), A.Normalize(mean=(0.485, 0.456, 0.406), std=(0.229, 0.224, 0.225)), ToTensor()]\n",
        ")"
      ],
      "execution_count": null,
      "outputs": []
    },
    {
      "cell_type": "markdown",
      "metadata": {
        "id": "HC-11CdP7A5W"
      },
      "source": [
        "Convert make a dataset and dataloader. Need a custom dataset to apply the augmentations on the go. Means we end up with more data when run on lots of epochs."
      ]
    },
    {
      "cell_type": "code",
      "metadata": {
        "id": "sQBhT-7dXX-G"
      },
      "source": [
        "class H_custom_Dataset(TensorDataset): #like this but livs\n",
        "    def __init__(self, images, masks, transform=None):\n",
        "        super(H_custom_Dataset, self).__init__() #dont know what this does find out\n",
        "        self.transform = transform\n",
        "        self.images, self.masks  = genTransforms(images, masks)\n",
        "\n",
        "    def __len__(self):\n",
        "        return len(self.images)\n",
        "\n",
        "    def __getitem__(self, idx):\n",
        "      if self.transform:\n",
        "        augmentations = self.transform(image=self.images[idx], mask=self.masks[idx])\n",
        "        image = augmentations[\"image\"]\n",
        "        mask =augmentations[\"mask\"]\n",
        "      else:\n",
        "        image = self.images\n",
        "        mask = self.masks\n",
        "      return image, mask"
      ],
      "execution_count": null,
      "outputs": []
    },
    {
      "cell_type": "code",
      "metadata": {
        "id": "R0u3ym_r7Dd8"
      },
      "source": [
        "train_dataset = H_custom_Dataset(slice_train, masks_train, transform = train_transform)#transforms = aug\n",
        "test_dataset = H_custom_Dataset(slice_test, masks_test, transform = test_transform)\n",
        "val_dataset = H_custom_Dataset(slice_val, masks_val, transform = val_transform)"
      ],
      "execution_count": null,
      "outputs": []
    },
    {
      "cell_type": "code",
      "metadata": {
        "id": "XxiIS3Sg6FsO"
      },
      "source": [
        "train_dataloader = DataLoader(train_dataset, batch_size = 8, num_workers = 2, shuffle = True)#used batch size 4 for sem1\n",
        "test_dataloader = DataLoader(test_dataset, batch_size = len(slice_test), num_workers = 2, shuffle = False)\n",
        "val_dataloader = DataLoader(val_dataset, batch_size = 8, num_workers = 2, shuffle = True)"
      ],
      "execution_count": null,
      "outputs": []
    },
    {
      "cell_type": "markdown",
      "metadata": {
        "id": "a4fTKnwijZh2"
      },
      "source": [
        "#Tensorboard\n",
        "a nice way of displaying the data and how the model is progressing"
      ]
    },
    {
      "cell_type": "code",
      "metadata": {
        "id": "Vib1wsdzNPBq"
      },
      "source": [
        "for batch_idx, train_dataset in enumerate(train_dataloader):\r\n",
        "      slice_train, masks_train = train_dataset[0], train_dataset[1]    \r\n",
        "      fig=plt.figure(figsize=(15, 15))\r\n",
        "      ax = []\r\n",
        "      #figure with 5 columns\r\n",
        "      for i in range(0, len(slice_train)):\r\n",
        "        ax.append(fig.add_subplot(1, 5, i+1))\r\n",
        "        plt.imshow(slice_train[i,0], cmap=\"Greys\")\r\n",
        "        plt.imshow(masks_train[i,0], alpha = 0.5)\r\n",
        "        ax[-1].set_title(\"test:\"+str(i))\r\n",
        "      plt.show()\r\n",
        "      #break"
      ],
      "execution_count": null,
      "outputs": []
    },
    {
      "cell_type": "code",
      "metadata": {
        "id": "BFGafBGLjfCk",
        "colab": {
          "base_uri": "https://localhost:8080/",
          "height": 162
        },
        "outputId": "76a92716-3284-4371-bdc4-d97efff0ec43"
      },
      "source": [
        "from torch.utils.tensorboard import SummaryWriter\n",
        "\n",
        "# default `log_dir` is \"runs\" - we'll be more specific here\n",
        "writer = SummaryWriter()\n",
        "# get some random training images\n",
        "dataiter = iter(train_dataloader)\n",
        "images, labels = dataiter.next()\n",
        "\n",
        "print(images.shape)\n",
        "print(labels.shape)\n",
        "# show images\n",
        "img_grid = torchvision.utils.make_grid(images)\n",
        "lab_grid = torchvision.utils.make_grid(labels.squeeze(0))\n",
        "plt.imshow(img_grid[0], cmap=\"Greys\")\n",
        "#show(img_grid)\n",
        "plt.imshow(lab_grid[0], alpha = 0.5)\n",
        "print(img_grid.shape)\n",
        "print(lab_grid.shape)\n",
        "# write to tensorboard\n",
        "writer.add_image('four_train_images', img_grid)\n",
        "writer.add_image('four_masks', lab_grid)"
      ],
      "execution_count": null,
      "outputs": [
        {
          "output_type": "stream",
          "text": [
            "torch.Size([8, 3, 260, 260])\n",
            "torch.Size([8, 1, 260, 260])\n",
            "torch.Size([3, 264, 2098])\n",
            "torch.Size([3, 264, 2098])\n"
          ],
          "name": "stdout"
        },
        {
          "output_type": "display_data",
          "data": {
            "image/png": "[encoded data removed]",
            "text/plain": [
              "<Figure size 432x288 with 1 Axes>"
            ]
          },
          "metadata": {
            "tags": [],
            "needs_background": "light"
          }
        }
      ]
    },
    {
      "cell_type": "markdown",
      "metadata": {
        "id": "UZ-vAaDQA4uA"
      },
      "source": [
        "#Modifying the model\n",
        "Pick the model and edit it. Change the number of classifiers and freeze the weights"
      ]
    },
    {
      "cell_type": "markdown",
      "metadata": {
        "id": "vkqdP-a6xD8t"
      },
      "source": [
        "Donal's way - to load the pretained model and the untrained one with different classes and compare them to build ours."
      ]
    },
    {
      "cell_type": "code",
      "metadata": {
        "id": "aqcLiKV_71RE",
        "colab": {
          "base_uri": "https://localhost:8080/",
          "height": 353,
          "referenced_widgets": [
            "5c2b7e3c71234295b3329cc55d0078b6",
            "10480b492dfe4da2ae2fecda763d1c89",
            "3078500d0d4b495592017d117c9ce523",
            "4147cae2b7494db69cdcda35f0122671",
            "e11fa9c64fe94bea8b4b0203cbde7343",
            "23509c824cd44b39b224ae35377cd336",
            "d9927f2f10c44a4ab56da22f79745ccd",
            "66197ca083ea4746ab718013a712a834",
            "6ac014d16a8443ff84b338ae8f330d2b",
            "3dc6187a17684fcb8eaef17f0954e15a",
            "0486b7bf68b543538d26566cbc19bb77",
            "557e1e1d104e4fbdbba7f23ad1934669",
            "260d27aa93af40e7999367849df5f277",
            "1b2952a42a1f496aba07b8677a5ae030",
            "9a73859006a64cb2b361f08f665a8fc7",
            "6393f672b199474e915d5d17bda2648b"
          ]
        },
        "outputId": "da80aa5b-4fe4-4b3f-e8bf-88ac8c082edf"
      },
      "source": [
        "# Load pre-trained model\n",
        "pt_model = models.segmentation.fcn_resnet50(pretrained=True)\n",
        "model = models.segmentation.fcn_resnet50(pretrained=False, num_classes=1)\n",
        "# Change final layer as pre-trained model expects 21 outputs\n",
        "pt_dict = pt_model.state_dict()\n",
        "model_dict = model.state_dict()\n",
        "pretrained_dict = {}\n",
        "for key, val in pt_dict.items():\n",
        "    if key in model_dict:\n",
        "        if val.shape == model_dict[key].shape:\n",
        "            pretrained_dict[key] = val\n",
        "        else:\n",
        "            print(\"Shapes don't match\")\n",
        "            continue\n",
        "    else:\n",
        "        print(\"key not in dict\")\n",
        "        continue\n",
        "# Overwrite entries in the existing state dict\n",
        "model_dict.update(pretrained_dict)\n",
        "# Load new state dict\n",
        "model.load_state_dict(model_dict)\n",
        "#print(model)"
      ],
      "execution_count": null,
      "outputs": [
        {
          "output_type": "stream",
          "text": [
            "Downloading: \"https://download.pytorch.org/models/resnet50-19c8e357.pth\" to /root/.cache/torch/hub/checkpoints/resnet50-19c8e357.pth\n"
          ],
          "name": "stderr"
        },
        {
          "output_type": "display_data",
          "data": {
            "application/vnd.jupyter.widget-view+json": {
              "model_id": "5c2b7e3c71234295b3329cc55d0078b6",
              "version_minor": 0,
              "version_major": 2
            },
            "text/plain": [
              "HBox(children=(FloatProgress(value=0.0, max=102502400.0), HTML(value='')))"
            ]
          },
          "metadata": {
            "tags": []
          }
        },
        {
          "output_type": "stream",
          "text": [
            "\n"
          ],
          "name": "stdout"
        },
        {
          "output_type": "stream",
          "text": [
            "Downloading: \"https://download.pytorch.org/models/fcn_resnet50_coco-1167a1af.pth\" to /root/.cache/torch/hub/checkpoints/fcn_resnet50_coco-1167a1af.pth\n"
          ],
          "name": "stderr"
        },
        {
          "output_type": "display_data",
          "data": {
            "application/vnd.jupyter.widget-view+json": {
              "model_id": "6ac014d16a8443ff84b338ae8f330d2b",
              "version_minor": 0,
              "version_major": 2
            },
            "text/plain": [
              "HBox(children=(FloatProgress(value=0.0, max=141567418.0), HTML(value='')))"
            ]
          },
          "metadata": {
            "tags": []
          }
        },
        {
          "output_type": "stream",
          "text": [
            "\n",
            "Shapes don't match\n",
            "Shapes don't match\n",
            "key not in dict\n",
            "key not in dict\n",
            "key not in dict\n",
            "key not in dict\n",
            "key not in dict\n",
            "key not in dict\n",
            "key not in dict\n",
            "key not in dict\n"
          ],
          "name": "stdout"
        },
        {
          "output_type": "execute_result",
          "data": {
            "text/plain": [
              "<All keys matched successfully>"
            ]
          },
          "metadata": {
            "tags": []
          },
          "execution_count": 6
        }
      ]
    },
    {
      "cell_type": "markdown",
      "metadata": {
        "id": "Unw1UiyRXkRx"
      },
      "source": [
        "optimiser and criterion"
      ]
    },
    {
      "cell_type": "code",
      "metadata": {
        "id": "Q8pPEL2bXfJj"
      },
      "source": [
        "optimizer = optim.Adam(model.parameters(), lr=0.001)#lr=args.pre_train_lr\n",
        "#optimizer = optim.Adadelta(model.parameters(), lr=0.01, weight_decay= 1)\n",
        "#optimizer = optim.SGD(model.parameters(), lr=0.001, momentum=0.9)\n",
        "criterion = torch.nn.BCEWithLogitsLoss(pos_weight=weight).cuda()\n",
        "# Decay LR by a factor of 0.5 every 2 epochs\n",
        "scheduler = lr_scheduler.StepLR(optimizer, step_size=25, gamma=0.5)"
      ],
      "execution_count": null,
      "outputs": []
    },
    {
      "cell_type": "code",
      "metadata": {
        "id": "5sFJpFIIGQCj",
        "colab": {
          "base_uri": "https://localhost:8080/"
        },
        "outputId": "a3e51f72-2a30-4ee6-addc-47261a0ad10a"
      },
      "source": [
        "#print(model)"
      ],
      "execution_count": null,
      "outputs": [
        {
          "output_type": "stream",
          "text": [
            "FCN(\n",
            "  (backbone): IntermediateLayerGetter(\n",
            "    (conv1): Conv2d(3, 64, kernel_size=(7, 7), stride=(2, 2), padding=(3, 3), bias=False)\n",
            "    (bn1): BatchNorm2d(64, eps=1e-05, momentum=0.1, affine=True, track_running_stats=True)\n",
            "    (relu): ReLU(inplace=True)\n",
            "    (maxpool): MaxPool2d(kernel_size=3, stride=2, padding=1, dilation=1, ceil_mode=False)\n",
            "    (layer1): Sequential(\n",
            "      (0): Bottleneck(\n",
            "        (conv1): Conv2d(64, 64, kernel_size=(1, 1), stride=(1, 1), bias=False)\n",
            "        (bn1): BatchNorm2d(64, eps=1e-05, momentum=0.1, affine=True, track_running_stats=True)\n",
            "        (conv2): Conv2d(64, 64, kernel_size=(3, 3), stride=(1, 1), padding=(1, 1), bias=False)\n",
            "        (bn2): BatchNorm2d(64, eps=1e-05, momentum=0.1, affine=True, track_running_stats=True)\n",
            "        (conv3): Conv2d(64, 256, kernel_size=(1, 1), stride=(1, 1), bias=False)\n",
            "        (bn3): BatchNorm2d(256, eps=1e-05, momentum=0.1, affine=True, track_running_stats=True)\n",
            "        (relu): ReLU(inplace=True)\n",
            "        (downsample): Sequential(\n",
            "          (0): Conv2d(64, 256, kernel_size=(1, 1), stride=(1, 1), bias=False)\n",
            "          (1): BatchNorm2d(256, eps=1e-05, momentum=0.1, affine=True, track_running_stats=True)\n",
            "        )\n",
            "      )\n",
            "      (1): Bottleneck(\n",
            "        (conv1): Conv2d(256, 64, kernel_size=(1, 1), stride=(1, 1), bias=False)\n",
            "        (bn1): BatchNorm2d(64, eps=1e-05, momentum=0.1, affine=True, track_running_stats=True)\n",
            "        (conv2): Conv2d(64, 64, kernel_size=(3, 3), stride=(1, 1), padding=(1, 1), bias=False)\n",
            "        (bn2): BatchNorm2d(64, eps=1e-05, momentum=0.1, affine=True, track_running_stats=True)\n",
            "        (conv3): Conv2d(64, 256, kernel_size=(1, 1), stride=(1, 1), bias=False)\n",
            "        (bn3): BatchNorm2d(256, eps=1e-05, momentum=0.1, affine=True, track_running_stats=True)\n",
            "        (relu): ReLU(inplace=True)\n",
            "      )\n",
            "      (2): Bottleneck(\n",
            "        (conv1): Conv2d(256, 64, kernel_size=(1, 1), stride=(1, 1), bias=False)\n",
            "        (bn1): BatchNorm2d(64, eps=1e-05, momentum=0.1, affine=True, track_running_stats=True)\n",
            "        (conv2): Conv2d(64, 64, kernel_size=(3, 3), stride=(1, 1), padding=(1, 1), bias=False)\n",
            "        (bn2): BatchNorm2d(64, eps=1e-05, momentum=0.1, affine=True, track_running_stats=True)\n",
            "        (conv3): Conv2d(64, 256, kernel_size=(1, 1), stride=(1, 1), bias=False)\n",
            "        (bn3): BatchNorm2d(256, eps=1e-05, momentum=0.1, affine=True, track_running_stats=True)\n",
            "        (relu): ReLU(inplace=True)\n",
            "      )\n",
            "    )\n",
            "    (layer2): Sequential(\n",
            "      (0): Bottleneck(\n",
            "        (conv1): Conv2d(256, 128, kernel_size=(1, 1), stride=(1, 1), bias=False)\n",
            "        (bn1): BatchNorm2d(128, eps=1e-05, momentum=0.1, affine=True, track_running_stats=True)\n",
            "        (conv2): Conv2d(128, 128, kernel_size=(3, 3), stride=(2, 2), padding=(1, 1), bias=False)\n",
            "        (bn2): BatchNorm2d(128, eps=1e-05, momentum=0.1, affine=True, track_running_stats=True)\n",
            "        (conv3): Conv2d(128, 512, kernel_size=(1, 1), stride=(1, 1), bias=False)\n",
            "        (bn3): BatchNorm2d(512, eps=1e-05, momentum=0.1, affine=True, track_running_stats=True)\n",
            "        (relu): ReLU(inplace=True)\n",
            "        (downsample): Sequential(\n",
            "          (0): Conv2d(256, 512, kernel_size=(1, 1), stride=(2, 2), bias=False)\n",
            "          (1): BatchNorm2d(512, eps=1e-05, momentum=0.1, affine=True, track_running_stats=True)\n",
            "        )\n",
            "      )\n",
            "      (1): Bottleneck(\n",
            "        (conv1): Conv2d(512, 128, kernel_size=(1, 1), stride=(1, 1), bias=False)\n",
            "        (bn1): BatchNorm2d(128, eps=1e-05, momentum=0.1, affine=True, track_running_stats=True)\n",
            "        (conv2): Conv2d(128, 128, kernel_size=(3, 3), stride=(1, 1), padding=(1, 1), bias=False)\n",
            "        (bn2): BatchNorm2d(128, eps=1e-05, momentum=0.1, affine=True, track_running_stats=True)\n",
            "        (conv3): Conv2d(128, 512, kernel_size=(1, 1), stride=(1, 1), bias=False)\n",
            "        (bn3): BatchNorm2d(512, eps=1e-05, momentum=0.1, affine=True, track_running_stats=True)\n",
            "        (relu): ReLU(inplace=True)\n",
            "      )\n",
            "      (2): Bottleneck(\n",
            "        (conv1): Conv2d(512, 128, kernel_size=(1, 1), stride=(1, 1), bias=False)\n",
            "        (bn1): BatchNorm2d(128, eps=1e-05, momentum=0.1, affine=True, track_running_stats=True)\n",
            "        (conv2): Conv2d(128, 128, kernel_size=(3, 3), stride=(1, 1), padding=(1, 1), bias=False)\n",
            "        (bn2): BatchNorm2d(128, eps=1e-05, momentum=0.1, affine=True, track_running_stats=True)\n",
            "        (conv3): Conv2d(128, 512, kernel_size=(1, 1), stride=(1, 1), bias=False)\n",
            "        (bn3): BatchNorm2d(512, eps=1e-05, momentum=0.1, affine=True, track_running_stats=True)\n",
            "        (relu): ReLU(inplace=True)\n",
            "      )\n",
            "      (3): Bottleneck(\n",
            "        (conv1): Conv2d(512, 128, kernel_size=(1, 1), stride=(1, 1), bias=False)\n",
            "        (bn1): BatchNorm2d(128, eps=1e-05, momentum=0.1, affine=True, track_running_stats=True)\n",
            "        (conv2): Conv2d(128, 128, kernel_size=(3, 3), stride=(1, 1), padding=(1, 1), bias=False)\n",
            "        (bn2): BatchNorm2d(128, eps=1e-05, momentum=0.1, affine=True, track_running_stats=True)\n",
            "        (conv3): Conv2d(128, 512, kernel_size=(1, 1), stride=(1, 1), bias=False)\n",
            "        (bn3): BatchNorm2d(512, eps=1e-05, momentum=0.1, affine=True, track_running_stats=True)\n",
            "        (relu): ReLU(inplace=True)\n",
            "      )\n",
            "    )\n",
            "    (layer3): Sequential(\n",
            "      (0): Bottleneck(\n",
            "        (conv1): Conv2d(512, 256, kernel_size=(1, 1), stride=(1, 1), bias=False)\n",
            "        (bn1): BatchNorm2d(256, eps=1e-05, momentum=0.1, affine=True, track_running_stats=True)\n",
            "        (conv2): Conv2d(256, 256, kernel_size=(3, 3), stride=(1, 1), padding=(1, 1), bias=False)\n",
            "        (bn2): BatchNorm2d(256, eps=1e-05, momentum=0.1, affine=True, track_running_stats=True)\n",
            "        (conv3): Conv2d(256, 1024, kernel_size=(1, 1), stride=(1, 1), bias=False)\n",
            "        (bn3): BatchNorm2d(1024, eps=1e-05, momentum=0.1, affine=True, track_running_stats=True)\n",
            "        (relu): ReLU(inplace=True)\n",
            "        (downsample): Sequential(\n",
            "          (0): Conv2d(512, 1024, kernel_size=(1, 1), stride=(1, 1), bias=False)\n",
            "          (1): BatchNorm2d(1024, eps=1e-05, momentum=0.1, affine=True, track_running_stats=True)\n",
            "        )\n",
            "      )\n",
            "      (1): Bottleneck(\n",
            "        (conv1): Conv2d(1024, 256, kernel_size=(1, 1), stride=(1, 1), bias=False)\n",
            "        (bn1): BatchNorm2d(256, eps=1e-05, momentum=0.1, affine=True, track_running_stats=True)\n",
            "        (conv2): Conv2d(256, 256, kernel_size=(3, 3), stride=(1, 1), padding=(2, 2), dilation=(2, 2), bias=False)\n",
            "        (bn2): BatchNorm2d(256, eps=1e-05, momentum=0.1, affine=True, track_running_stats=True)\n",
            "        (conv3): Conv2d(256, 1024, kernel_size=(1, 1), stride=(1, 1), bias=False)\n",
            "        (bn3): BatchNorm2d(1024, eps=1e-05, momentum=0.1, affine=True, track_running_stats=True)\n",
            "        (relu): ReLU(inplace=True)\n",
            "      )\n",
            "      (2): Bottleneck(\n",
            "        (conv1): Conv2d(1024, 256, kernel_size=(1, 1), stride=(1, 1), bias=False)\n",
            "        (bn1): BatchNorm2d(256, eps=1e-05, momentum=0.1, affine=True, track_running_stats=True)\n",
            "        (conv2): Conv2d(256, 256, kernel_size=(3, 3), stride=(1, 1), padding=(2, 2), dilation=(2, 2), bias=False)\n",
            "        (bn2): BatchNorm2d(256, eps=1e-05, momentum=0.1, affine=True, track_running_stats=True)\n",
            "        (conv3): Conv2d(256, 1024, kernel_size=(1, 1), stride=(1, 1), bias=False)\n",
            "        (bn3): BatchNorm2d(1024, eps=1e-05, momentum=0.1, affine=True, track_running_stats=True)\n",
            "        (relu): ReLU(inplace=True)\n",
            "      )\n",
            "      (3): Bottleneck(\n",
            "        (conv1): Conv2d(1024, 256, kernel_size=(1, 1), stride=(1, 1), bias=False)\n",
            "        (bn1): BatchNorm2d(256, eps=1e-05, momentum=0.1, affine=True, track_running_stats=True)\n",
            "        (conv2): Conv2d(256, 256, kernel_size=(3, 3), stride=(1, 1), padding=(2, 2), dilation=(2, 2), bias=False)\n",
            "        (bn2): BatchNorm2d(256, eps=1e-05, momentum=0.1, affine=True, track_running_stats=True)\n",
            "        (conv3): Conv2d(256, 1024, kernel_size=(1, 1), stride=(1, 1), bias=False)\n",
            "        (bn3): BatchNorm2d(1024, eps=1e-05, momentum=0.1, affine=True, track_running_stats=True)\n",
            "        (relu): ReLU(inplace=True)\n",
            "      )\n",
            "      (4): Bottleneck(\n",
            "        (conv1): Conv2d(1024, 256, kernel_size=(1, 1), stride=(1, 1), bias=False)\n",
            "        (bn1): BatchNorm2d(256, eps=1e-05, momentum=0.1, affine=True, track_running_stats=True)\n",
            "        (conv2): Conv2d(256, 256, kernel_size=(3, 3), stride=(1, 1), padding=(2, 2), dilation=(2, 2), bias=False)\n",
            "        (bn2): BatchNorm2d(256, eps=1e-05, momentum=0.1, affine=True, track_running_stats=True)\n",
            "        (conv3): Conv2d(256, 1024, kernel_size=(1, 1), stride=(1, 1), bias=False)\n",
            "        (bn3): BatchNorm2d(1024, eps=1e-05, momentum=0.1, affine=True, track_running_stats=True)\n",
            "        (relu): ReLU(inplace=True)\n",
            "      )\n",
            "      (5): Bottleneck(\n",
            "        (conv1): Conv2d(1024, 256, kernel_size=(1, 1), stride=(1, 1), bias=False)\n",
            "        (bn1): BatchNorm2d(256, eps=1e-05, momentum=0.1, affine=True, track_running_stats=True)\n",
            "        (conv2): Conv2d(256, 256, kernel_size=(3, 3), stride=(1, 1), padding=(2, 2), dilation=(2, 2), bias=False)\n",
            "        (bn2): BatchNorm2d(256, eps=1e-05, momentum=0.1, affine=True, track_running_stats=True)\n",
            "        (conv3): Conv2d(256, 1024, kernel_size=(1, 1), stride=(1, 1), bias=False)\n",
            "        (bn3): BatchNorm2d(1024, eps=1e-05, momentum=0.1, affine=True, track_running_stats=True)\n",
            "        (relu): ReLU(inplace=True)\n",
            "      )\n",
            "    )\n",
            "    (layer4): Sequential(\n",
            "      (0): Bottleneck(\n",
            "        (conv1): Conv2d(1024, 512, kernel_size=(1, 1), stride=(1, 1), bias=False)\n",
            "        (bn1): BatchNorm2d(512, eps=1e-05, momentum=0.1, affine=True, track_running_stats=True)\n",
            "        (conv2): Conv2d(512, 512, kernel_size=(3, 3), stride=(1, 1), padding=(2, 2), dilation=(2, 2), bias=False)\n",
            "        (bn2): BatchNorm2d(512, eps=1e-05, momentum=0.1, affine=True, track_running_stats=True)\n",
            "        (conv3): Conv2d(512, 2048, kernel_size=(1, 1), stride=(1, 1), bias=False)\n",
            "        (bn3): BatchNorm2d(2048, eps=1e-05, momentum=0.1, affine=True, track_running_stats=True)\n",
            "        (relu): ReLU(inplace=True)\n",
            "        (downsample): Sequential(\n",
            "          (0): Conv2d(1024, 2048, kernel_size=(1, 1), stride=(1, 1), bias=False)\n",
            "          (1): BatchNorm2d(2048, eps=1e-05, momentum=0.1, affine=True, track_running_stats=True)\n",
            "        )\n",
            "      )\n",
            "      (1): Bottleneck(\n",
            "        (conv1): Conv2d(2048, 512, kernel_size=(1, 1), stride=(1, 1), bias=False)\n",
            "        (bn1): BatchNorm2d(512, eps=1e-05, momentum=0.1, affine=True, track_running_stats=True)\n",
            "        (conv2): Conv2d(512, 512, kernel_size=(3, 3), stride=(1, 1), padding=(4, 4), dilation=(4, 4), bias=False)\n",
            "        (bn2): BatchNorm2d(512, eps=1e-05, momentum=0.1, affine=True, track_running_stats=True)\n",
            "        (conv3): Conv2d(512, 2048, kernel_size=(1, 1), stride=(1, 1), bias=False)\n",
            "        (bn3): BatchNorm2d(2048, eps=1e-05, momentum=0.1, affine=True, track_running_stats=True)\n",
            "        (relu): ReLU(inplace=True)\n",
            "      )\n",
            "      (2): Bottleneck(\n",
            "        (conv1): Conv2d(2048, 512, kernel_size=(1, 1), stride=(1, 1), bias=False)\n",
            "        (bn1): BatchNorm2d(512, eps=1e-05, momentum=0.1, affine=True, track_running_stats=True)\n",
            "        (conv2): Conv2d(512, 512, kernel_size=(3, 3), stride=(1, 1), padding=(4, 4), dilation=(4, 4), bias=False)\n",
            "        (bn2): BatchNorm2d(512, eps=1e-05, momentum=0.1, affine=True, track_running_stats=True)\n",
            "        (conv3): Conv2d(512, 2048, kernel_size=(1, 1), stride=(1, 1), bias=False)\n",
            "        (bn3): BatchNorm2d(2048, eps=1e-05, momentum=0.1, affine=True, track_running_stats=True)\n",
            "        (relu): ReLU(inplace=True)\n",
            "      )\n",
            "    )\n",
            "  )\n",
            "  (classifier): FCNHead(\n",
            "    (0): Conv2d(2048, 512, kernel_size=(3, 3), stride=(1, 1), padding=(1, 1), bias=False)\n",
            "    (1): BatchNorm2d(512, eps=1e-05, momentum=0.1, affine=True, track_running_stats=True)\n",
            "    (2): ReLU()\n",
            "    (3): Dropout(p=0.1, inplace=False)\n",
            "    (4): Conv2d(512, 1, kernel_size=(1, 1), stride=(1, 1))\n",
            "  )\n",
            ")\n"
          ],
          "name": "stdout"
        }
      ]
    },
    {
      "cell_type": "markdown",
      "metadata": {
        "id": "nE-nh_vvu6O8"
      },
      "source": [
        "Can save the model weights to be loaded later if you want here."
      ]
    },
    {
      "cell_type": "code",
      "metadata": {
        "id": "iVsYnTlru5l3"
      },
      "source": [
        "# initialize the model class before loading the model\n",
        "#model = TheModelClass()\n",
        "# load the model\n",
        "#model.load_state_dict(torch.load(/content/model_state_dict))\n",
        "# Load pre-trained model\n",
        "model = models.segmentation.fcn_resnet50(pretrained=False, num_classes=1)\n",
        "path = \"/content/model_state_dict_300_epochs_2.pt\"\n",
        "model.load_state_dict(torch.load(path, map_location=\"cuda:0\"))\n",
        "\n",
        "model.to(torch.device('cuda'))"
      ],
      "execution_count": null,
      "outputs": []
    },
    {
      "cell_type": "markdown",
      "metadata": {
        "id": "MBtDBoz6mMqK"
      },
      "source": [
        "#Train and validation functions. \n",
        "https://www.pluralsight.com/guides/introduction-to-resnet <- might help a bit later"
      ]
    },
    {
      "cell_type": "code",
      "metadata": {
        "id": "-ilvi1bOmQN2"
      },
      "source": [
        "# training function\n",
        "def train(model, train_dataloader, device):\n",
        "    model.train()\n",
        "    train_running_loss = 0.0\n",
        "    train_running_correct = 0\n",
        "    total_step = len(train_dataloader)\n",
        "    for batch_idx, train_dataset in enumerate(train_dataloader):\n",
        "        slice_train, masks_train = train_dataset[0].to(device), train_dataset[1].to(device)\n",
        "        slice_train = slice_train.type(torch.float32)\n",
        "        optimizer.zero_grad()\n",
        "        output = model(slice_train)\n",
        "        loss = criterion(output[\"out\"], masks_train)\n",
        "        #writing to tensorboard\n",
        "        #writer.add_scalar('training loss',\n",
        "         #                   loss,\n",
        "          #                  epoch * len(train_dataloader) + batch_idx)\n",
        "        #writer.add_images(\"slices\", slice_train)\n",
        "        test_output_1 = output[\"out\"].detach().cpu()\n",
        "        sigmoid = 1/(1 + np.exp(-test_output_1))\n",
        "        segment_pred = (sigmoid > 0.5).float()\n",
        "        writer.add_images(\"predictions\", segment_pred)\n",
        "        #print(\"loss: \", loss)\n",
        "        #acuracy\n",
        "        train_running_loss += loss.item()\n",
        "        _, preds = torch.max(output[\"out\"], 1)#[\"out\"]\n",
        "        train_running_correct += (preds == masks_train).sum().item()\n",
        "        loss.backward()\n",
        "        optimizer.step()\n",
        "    #what actually is this    \n",
        "    train_loss = train_running_loss/len(train_dataloader.dataset)\n",
        "    train_accuracy = train_running_correct/len(train_dataloader.dataset)\n",
        "    writer.add_scalar('training loss',\n",
        "                            train_loss,\n",
        "                            epoch)#.dataset?\n",
        "    #print(f'Train Loss: {train_loss:.4f}, Train Acc: {train_accuracy:.2f}')\n",
        "    \n",
        "    return train_loss, train_accuracy"
      ],
      "execution_count": null,
      "outputs": []
    },
    {
      "cell_type": "code",
      "metadata": {
        "id": "eUsyWCCqmWcd"
      },
      "source": [
        "def validate(model, val_dataloader, device):\n",
        "    model.eval()\n",
        "    val_running_loss = 0.0\n",
        "    val_running_correct = 0\n",
        "    for int, data in enumerate(val_dataloader):\n",
        "        data, target = data[0].to(device), data[1].to(device)\n",
        "        data = data.type(torch.float32)\n",
        "        #target.cuda()\n",
        "        output = model(data)\n",
        "        #print(\"output shape: \", output[\"out\"].shape)\n",
        "        loss = criterion(output[\"out\"], target)\n",
        "        \n",
        "        val_running_loss += loss.item()\n",
        "        _, preds = torch.max(output[\"out\"], 1)\n",
        "        val_running_correct += (preds == target).sum().item()\n",
        "    \n",
        "    val_loss = val_running_loss/len(val_dataloader.dataset)\n",
        "    #writing to tensorboard\n",
        "    writer.add_scalar('Validation loss',\n",
        "                            val_loss,\n",
        "                            epoch)\n",
        "    val_accuracy = val_running_correct/len(val_dataloader.dataset)\n",
        "    \n",
        "    return val_loss, val_accuracy"
      ],
      "execution_count": null,
      "outputs": []
    },
    {
      "cell_type": "code",
      "metadata": {
        "id": "gXqbg4anD-IY"
      },
      "source": [
        "def test(model, test_dataloader):\n",
        "    model.eval()\n",
        "    test_running_loss = 0.0\n",
        "    test_running_correct = 0\n",
        "    segments = []\n",
        "    predictions = torch.Tensor()\n",
        "    for int, data in enumerate(test_dataloader):\n",
        "        slices_test = data[0].to(device)\n",
        "        slices_test = slices_test.type(torch.float32)\n",
        "        output = model(slices_test)\n",
        "        print(\"output shape: \", output[\"out\"].shape)\n",
        "        test_ouput = output[\"out\"].detach().cpu()\n",
        "        sigmoid = 1/(1 + np.exp(-test_ouput))\n",
        "        segment = (sigmoid > 0.6).float()\n",
        "        print(segment.shape())\n",
        "        segments.append(np.array(segment))\n",
        "        #_, preds = torch.max(output[\"out\"], 1)\n",
        "        #print(preds.shape)\n",
        "        #segments = (preds > 0.5).float()\n",
        "        #val_running_correct += (preds == target).sum().item()\n",
        "    \n",
        "    #val_loss = val_running_loss/len(val_dataloader.dataset)\n",
        "    #val_accuracy = val_running_correct/len(val_dataloader.dataset)\n",
        "    segments = np.array(segments)\n",
        "    return segments"
      ],
      "execution_count": null,
      "outputs": []
    },
    {
      "cell_type": "markdown",
      "metadata": {
        "id": "VUDmsAAUFWcX"
      },
      "source": [
        "another training function from this webpage:https://pytorch.org/tutorials/beginner/finetuning_torchvision_models_tutorial.html\n",
        "Can use it when you want to make stuff more streamlined/complicated"
      ]
    },
    {
      "cell_type": "markdown",
      "metadata": {
        "id": "5xhDGVfq3qVe"
      },
      "source": [
        "Checking memory space"
      ]
    },
    {
      "cell_type": "code",
      "metadata": {
        "id": "VI9YDnTvxfPK",
        "colab": {
          "base_uri": "https://localhost:8080/"
        },
        "outputId": "e9058760-e8a3-4270-809b-c776387e0e98"
      },
      "source": [
        "!nvidia-smi"
      ],
      "execution_count": null,
      "outputs": [
        {
          "output_type": "stream",
          "text": [
            "Sun Jan  3 16:06:15 2021       \n",
            "+-----------------------------------------------------------------------------+\n",
            "| NVIDIA-SMI 460.27.04    Driver Version: 418.67       CUDA Version: 10.1     |\n",
            "|-------------------------------+----------------------+----------------------+\n",
            "| GPU  Name        Persistence-M| Bus-Id        Disp.A | Volatile Uncorr. ECC |\n",
            "| Fan  Temp  Perf  Pwr:Usage/Cap|         Memory-Usage | GPU-Util  Compute M. |\n",
            "|                               |                      |               MIG M. |\n",
            "|===============================+======================+======================|\n",
            "|   0  Tesla P100-PCIE...  Off  | 00000000:00:04.0 Off |                    0 |\n",
            "| N/A   41C    P0    33W / 250W |    927MiB / 16280MiB |      0%      Default |\n",
            "|                               |                      |                 ERR! |\n",
            "+-------------------------------+----------------------+----------------------+\n",
            "                                                                               \n",
            "+-----------------------------------------------------------------------------+\n",
            "| Processes:                                                                  |\n",
            "|  GPU   GI   CI        PID   Type   Process name                  GPU Memory |\n",
            "|        ID   ID                                                   Usage      |\n",
            "|=============================================================================|\n",
            "|  No running processes found                                                 |\n",
            "+-----------------------------------------------------------------------------+\n"
          ],
          "name": "stdout"
        }
      ]
    },
    {
      "cell_type": "markdown",
      "metadata": {
        "id": "57WQ6lqu3us6"
      },
      "source": [
        "#Training the model"
      ]
    },
    {
      "cell_type": "markdown",
      "metadata": {
        "id": "vEEfxxBnn_4d"
      },
      "source": [
        "Train over 10 epochs. doesnt like the input shape.\n",
        "\n"
      ]
    },
    {
      "cell_type": "code",
      "metadata": {
        "id": "ixEduMQSLU3P"
      },
      "source": [
        "!pip install pytorchtools"
      ],
      "execution_count": null,
      "outputs": []
    },
    {
      "cell_type": "code",
      "metadata": {
        "id": "N2nsDd3qWOAo"
      },
      "source": [
        "def Compare(list, number):\r\n",
        "  counter = False\r\n",
        "  index = len(list)\r\n",
        "  for i in range (0,index):\r\n",
        "    if number <= list[i]:\r\n",
        "      counter = True\r\n",
        "  return counter"
      ],
      "execution_count": null,
      "outputs": []
    },
    {
      "cell_type": "code",
      "metadata": {
        "id": "O_dFh73C7yn5"
      },
      "source": [
        "val_last_ten = []\r\n",
        "def last_ten():\r\n",
        "  for i in range(1,11):\r\n",
        "    val_last_ten.append(val_loss[epoch - i])\r\n",
        "  return val_last_ten"
      ],
      "execution_count": null,
      "outputs": []
    },
    {
      "cell_type": "code",
      "metadata": {
        "id": "nz6zwArcK5id"
      },
      "source": [
        "# import EarlyStopping\n",
        "from pytorchtools import EarlyStopping"
      ],
      "execution_count": null,
      "outputs": []
    },
    {
      "cell_type": "code",
      "metadata": {
        "id": "kQxIQ3zVoFJN"
      },
      "source": [
        "train_loss , train_accuracy = [], []\n",
        "val_loss , val_accuracy = [], []\n",
        "start = time.time()\n",
        "num_epochs = 300\n",
        "device = torch.device(\"cuda:0\" if torch.cuda.is_available() else \"cpu\")\n",
        "model.to(device)\n",
        "\n",
        "for epoch in range(num_epochs):\n",
        "  print('Epoch {}/{}'.format(epoch+1, num_epochs))\n",
        "  print(\"\\nlearning rate: \", get_lr(optimizer))\n",
        "  #tk0 = tqdm(epoch, total=num_epochs)\n",
        "  train_epoch_loss, train_epoch_accuracy = train(model, train_dataloader, device)\n",
        "  val_epoch_loss, val_epoch_accuracy = validate(model, val_dataloader, device)\n",
        "  #if epoch > 200:\n",
        "   # if Compare(last_ten(), val_epoch_loss) == False:\n",
        "    #  end = time.time()\n",
        "     # print((end-start)/60, 'minutes')\n",
        "      #print( \"Early Stopping after \", epoch, \" epochs\"  )\n",
        "      #print(\"val_epoch_loss = \" , val_epoch_loss, \"Val_last ten: \", val_last_ten)\n",
        "      #break\n",
        "  train_loss.append(train_epoch_loss)\n",
        "  train_accuracy.append(train_epoch_accuracy)\n",
        "  print(\"train loss: \", train_loss) \n",
        "  #print() \"train acc: \", train_accuracy)\n",
        "  val_loss.append(val_epoch_loss)\n",
        "  val_accuracy.append(val_epoch_accuracy)\n",
        "  print(\"val loss: \",val_loss) \n",
        "  #print(\"val acc: \", val_accuracy)\n",
        "  scheduler.step()\n",
        "\n",
        "end = time.time()\n",
        "print((end-start)/60, 'minutes')"
      ],
      "execution_count": null,
      "outputs": []
    },
    {
      "cell_type": "markdown",
      "metadata": {
        "id": "PRAXYGwkCoBv"
      },
      "source": [
        "Where you can veiw it"
      ]
    },
    {
      "cell_type": "code",
      "metadata": {
        "id": "v53n-Q_pCnaf"
      },
      "source": [
        "%tensorboard --logdir=runs"
      ],
      "execution_count": null,
      "outputs": []
    },
    {
      "cell_type": "markdown",
      "metadata": {
        "id": "iyOnTVXgwBlW"
      },
      "source": [
        "Saving the retrained model weights for anonther time."
      ]
    },
    {
      "cell_type": "code",
      "metadata": {
        "id": "_hwHZ-1JwA1N"
      },
      "source": [
        "# save the model state_dict\n",
        "torch.save(model.cuda().state_dict(), \"/content/model_state_dict_300_epochs_v3.pt\")"
      ],
      "execution_count": null,
      "outputs": []
    },
    {
      "cell_type": "markdown",
      "metadata": {
        "id": "sj1h_5iZs_Bz"
      },
      "source": [
        "#Testing the model\n",
        "Displaying the models segment"
      ]
    },
    {
      "cell_type": "code",
      "metadata": {
        "colab": {
          "base_uri": "https://localhost:8080/",
          "height": 211
        },
        "id": "-iE_o0SSZ8yw",
        "outputId": "133fca97-cc92-4c96-ce39-e6555e94015f"
      },
      "source": [
        "for batch_idx, test_dataset in enumerate(test_dataloader):\r\n",
        "      test_em, test_lab = test_dataset[0], test_dataset[1]    \r\n",
        "      break\r\n",
        "#figure with 5 columns\r\n",
        "fig=plt.figure(figsize=(15, 15))\r\n",
        "ax = []\r\n",
        "for i in range(0, len(test_em)):\r\n",
        "  ax.append(fig.add_subplot(1,5, i+1))\r\n",
        "  #test_lab[i][test_lab[i]==0] = np.nan\r\n",
        "  plt.imshow(test_em[i,0,...], cmap=\"Greys\")\r\n",
        "  plt.imshow(test_lab[i,0,...], alpha = 0.5)\r\n",
        "  ax[-1].set_title(\"Network test:\"+str(i))\r\n",
        "  #plt.axis('off')\r\n",
        "plt.show() \r\n",
        "print(test_em.shape)"
      ],
      "execution_count": null,
      "outputs": [
        {
          "output_type": "display_data",
          "data": {
            "image/png": "[encoded data removed]",
            "text/plain": [
              "<Figure size 1080x1080 with 5 Axes>"
            ]
          },
          "metadata": {
            "tags": [],
            "needs_background": "light"
          }
        },
        {
          "output_type": "stream",
          "text": [
            "torch.Size([5, 3, 260, 260])\n"
          ],
          "name": "stdout"
        }
      ]
    },
    {
      "cell_type": "code",
      "metadata": {
        "colab": {
          "base_uri": "https://localhost:8080/"
        },
        "id": "vExU2ihWrCr8",
        "outputId": "f9afbf7e-81e3-481f-a14b-c40f850ea593"
      },
      "source": [
        "model.eval()\r\n",
        "test_output = model((test_em.cuda().type(torch.float32)))[\"out\"]\r\n",
        "print(test_output.shape)"
      ],
      "execution_count": null,
      "outputs": [
        {
          "output_type": "stream",
          "text": [
            "torch.Size([5, 1, 260, 260])\n"
          ],
          "name": "stdout"
        }
      ]
    },
    {
      "cell_type": "code",
      "metadata": {
        "colab": {
          "base_uri": "https://localhost:8080/",
          "height": 194
        },
        "id": "LoxAzqOTf0t4",
        "outputId": "5509abd5-5f97-42b1-89b7-4ea6612ad0be"
      },
      "source": [
        "test_output_1 = test_output.detach().cpu()\r\n",
        "fig=plt.figure(figsize=(15, 15))\r\n",
        "ax = []\r\n",
        "for i in range(0, len(test_em)):\r\n",
        "  ax.append(fig.add_subplot(1,5, i+1))\r\n",
        "  plt.imshow(test_em[i,0,...], cmap=\"Greys\")\r\n",
        "  plt.imshow(test_output_1[i,0,...], alpha = 0.5)\r\n",
        "  ax[-1].set_title(\"Network test:\"+str(i))\r\n",
        "plt.show()"
      ],
      "execution_count": null,
      "outputs": [
        {
          "output_type": "display_data",
          "data": {
            "image/png": "[encoded data removed]",
            "text/plain": [
              "<Figure size 1080x1080 with 5 Axes>"
            ]
          },
          "metadata": {
            "tags": [],
            "needs_background": "light"
          }
        }
      ]
    },
    {
      "cell_type": "code",
      "metadata": {
        "colab": {
          "base_uri": "https://localhost:8080/",
          "height": 194
        },
        "id": "Zc9CD0xaOjoe",
        "outputId": "d02dc092-5b66-43af-de3f-6e579add3731"
      },
      "source": [
        "sigmoid = 1/(1 + np.exp(-test_output_1))\r\n",
        "segment_pred = (sigmoid > 0.5).float()\r\n",
        "fig=plt.figure(figsize=(15, 15))\r\n",
        "ax = []\r\n",
        "for i in range(0, 5):\r\n",
        "  ax.append(fig.add_subplot(1,5, i+1))\r\n",
        "  plt.imshow(test_em[i,0,...], cmap=\"Greys\")\r\n",
        "  plt.imshow(segment_pred[i,0,...],  alpha = 0.5)\r\n",
        "  #plt.imshow(test_lab[i,0,...], alpha= 0.5)\r\n",
        "  ax[-1].set_title(\"Network test:\"+str(i))\r\n",
        "  #plt.axis(\"off\")\r\n",
        "plt.show()"
      ],
      "execution_count": null,
      "outputs": [
        {
          "output_type": "display_data",
          "data": {
            "image/png": "[encoded data removed]",
            "text/plain": [
              "<Figure size 1080x1080 with 5 Axes>"
            ]
          },
          "metadata": {
            "tags": [],
            "needs_background": "light"
          }
        }
      ]
    },
    {
      "cell_type": "markdown",
      "metadata": {
        "id": "LuC66KJfgJe4"
      },
      "source": [
        "#Compare out Network's output with our segments\n",
        "Do Dice between the networks sigmoided output and our segments.\n",
        "Also do Dice between thresholded output and sigmoid and ours"
      ]
    },
    {
      "cell_type": "markdown",
      "metadata": {
        "id": "3Q4cjzEk139f"
      },
      "source": [
        "Liv's dice eval function that she found on the internet (get link)"
      ]
    },
    {
      "cell_type": "code",
      "metadata": {
        "id": "rOOndd79126q"
      },
      "source": [
        "def diceCoeff(pred, gt, smooth=1, activation='sigmoid'):\n",
        "    \"\"\" computational formula：\n",
        "        dice = (2 * (pred ∩ gt)) / (pred ∪ gt)\n",
        "    \"\"\"\n",
        "    if activation is None or activation == \"none\":\n",
        "        activation_fn = lambda x: x\n",
        "    elif activation == \"sigmoid\":\n",
        "        activation_fn = nn.Sigmoid()\n",
        "    elif activation == \"softmax2d\":\n",
        "        activation_fn = nn.Softmax2d()\n",
        "    else:\n",
        "        raise NotImplementedError(\"Activation implemented for sigmoid and softmax2d activation function operation\")\n",
        " \n",
        "    pred = np.round(activation_fn(pred))\n",
        "    N = gt.size(0) #n should be batch size\n",
        "    pred_flat = pred.view(N, -1)\n",
        "    gt_flat = gt.view(N, -1)\n",
        " \n",
        "    intersection = (pred_flat * gt_flat).sum(1)\n",
        "    unionset = pred_flat.sum(1) + gt_flat.sum(1)\n",
        "    print(intersection, unionset)\n",
        "    loss = (2 * intersection + smooth) / (unionset + smooth)\n",
        " \n",
        "    return loss.sum() / N"
      ],
      "execution_count": null,
      "outputs": []
    },
    {
      "cell_type": "code",
      "metadata": {
        "colab": {
          "base_uri": "https://localhost:8080/"
        },
        "id": "R7hkdqlhggta",
        "outputId": "e93ca403-f1e5-4746-f219-38efbfb7ce7c"
      },
      "source": [
        "dice_array = []\n",
        "\n",
        "dice_net_v_pred = diceCoeff(test_lab, segment_pred , smooth=1, activation=None)\n",
        "\n",
        "print(\"dice_net_v_pred\", dice_net_v_pred)\n",
        "mean = np.mean(dice_net_v_pred.item())\n",
        "\n",
        "print(mean)"
      ],
      "execution_count": null,
      "outputs": [
        {
          "output_type": "stream",
          "text": [
            "tensor([6223., 6265., 5177., 2715., 4358.]) tensor([14993., 15127., 12854.,  7664., 12010.])\n",
            "dice_net_v_pred tensor(0.7797)\n",
            "0.779656708240509\n"
          ],
          "name": "stdout"
        }
      ]
    },
    {
      "cell_type": "markdown",
      "metadata": {
        "id": "88TSeREetq5V"
      },
      "source": [
        "#Area and Density of the Predictions"
      ]
    },
    {
      "cell_type": "markdown",
      "metadata": {
        "id": "7ELYfO4TAz5Q"
      },
      "source": [
        "Calculate the area of the segment and get the muscel density in this area. make sure to use the unnormalised ct scans."
      ]
    },
    {
      "cell_type": "code",
      "metadata": {
        "id": "RCh5eSlgBo6V"
      },
      "source": [
        "ct_scans = np.array(slice_test)\r\n",
        "#network_pred = segment_pred[:,0,...]"
      ],
      "execution_count": null,
      "outputs": []
    },
    {
      "cell_type": "code",
      "metadata": {
        "id": "irITsd2DIH75"
      },
      "source": [
        "print(ct_scans.shape, segment_pred.shape)"
      ],
      "execution_count": null,
      "outputs": []
    },
    {
      "cell_type": "code",
      "metadata": {
        "id": "D2_dx-3ET2kg"
      },
      "source": [
        "from functools import partial"
      ],
      "execution_count": null,
      "outputs": []
    },
    {
      "cell_type": "code",
      "metadata": {
        "id": "lB5VB8Q7T0_l"
      },
      "source": [
        "def getDensity(image, mask, area, label=1):#pixel density\n",
        "  if image.shape != (len(image),1,...):\n",
        "    mask = np.squeeze(mask)\n",
        "  # remove image.data since passing array\n",
        "  return float(np.mean(image[np.where(mask == 1)]))#-1024"
      ],
      "execution_count": null,
      "outputs": []
    },
    {
      "cell_type": "markdown",
      "metadata": {
        "id": "skQfZ7DRleQs"
      },
      "source": [
        "pixel area for each of my data bits. need to make sure they match up maybe add to array with identities."
      ]
    },
    {
      "cell_type": "code",
      "metadata": {
        "id": "gXEoT7PFjDut"
      },
      "source": [
        "pix_area = [0.87890625, 0.95367431640625, 0.95367431640625, 0.87890625, 0.9536694269690003, 0.9536694269690003, 0.87890625, 0.9536733850839028, 0.87890625, 0.9536694269690003, 0.9536694269690003, 0.9536694269690003, 0.9536694269690003, 0.95367431640625, 0.9536694269690003, 0.9536694269690003, 0.87890625, 0.9536694269690003, 0.95367431640625, 0.95367431640625, 0.95367431640625, 0.95367431640625, 0.9536733850839028, 0.87890625, 0.87890625, 0.87890625, 0.95367431640625, 0.95367431640625, 0.87890625, 0.87890625, 0.87890625, 0.87890625, 0.95367431640625, 0.46730049652979133, 0.95367431640625]\n",
        "#mm^2\n",
        "pixel_area = np.array(pix_area)*(0.1*0.1) #cm^2\n",
        "print(pixel_area)"
      ],
      "execution_count": null,
      "outputs": []
    },
    {
      "cell_type": "code",
      "metadata": {
        "id": "t1oBSM53T4oI"
      },
      "source": [
        "a = (0.09375*0.09375)  #area of 1 pixel cm^2\n",
        "def getArea(image, mask, area, label=1, thresholds = None):\n",
        "  sMasks = (mask == label)\n",
        "  threshold = np.logical_and(image > (thresholds[0]), image <  (thresholds[1]))\n",
        "  tmask = np.logical_and(sMasks, threshold)\n",
        "  #np.count_nonzero(tmask)\n",
        "  return np.count_nonzero(tmask) * area"
      ],
      "execution_count": null,
      "outputs": []
    },
    {
      "cell_type": "code",
      "metadata": {
        "colab": {
          "base_uri": "https://localhost:8080/"
        },
        "id": "Z5jGz64DUD2z",
        "outputId": "1f0a6320-3160-487d-e5d4-bf101dcc6676"
      },
      "source": [
        "density = getDensity(ct_scans[2], segment_pred[2], pix_area[2])\n",
        "print(density)"
      ],
      "execution_count": null,
      "outputs": [
        {
          "output_type": "stream",
          "text": [
            "0.4807532746307115\n"
          ],
          "name": "stdout"
        }
      ]
    },
    {
      "cell_type": "code",
      "metadata": {
        "colab": {
          "base_uri": "https://localhost:8080/"
        },
        "id": "PXl0viBQHLs5",
        "outputId": "d2b0b02b-0164-4e74-8315-160f15b5b35c"
      },
      "source": [
        "print(ids_test)"
      ],
      "execution_count": null,
      "outputs": [
        {
          "output_type": "stream",
          "text": [
            "['01-0023' '01-0034' '01-0026' '01-001' '01-0019']\n"
          ],
          "name": "stdout"
        }
      ]
    },
    {
      "cell_type": "code",
      "metadata": {
        "colab": {
          "base_uri": "https://localhost:8080/"
        },
        "id": "nRMGp7xjHQpG",
        "outputId": "0c826c65-ccbe-430c-d30c-a6cd92d9769e"
      },
      "source": [
        "pixel_area_id = [pixel_area[23-1],pixel_area[34-1],pixel_area[26-1],pixel_area[1-1],pixel_area[19-1]]\r\n",
        "pixel_area_id = np.array(pixel_area_id)\r\n",
        "print(pixel_area_id)\r\n"
      ],
      "execution_count": null,
      "outputs": [
        {
          "output_type": "stream",
          "text": [
            "[0.00953673 0.004673   0.00878906 0.00878906 0.00953674]\n"
          ],
          "name": "stdout"
        }
      ]
    },
    {
      "cell_type": "code",
      "metadata": {
        "id": "0KVRNMoaRFlQ"
      },
      "source": [
        "## Note that the areas have some thresholds applied that are from the literature\n",
        "extractionDict = {\"sma\" : partial(getArea, thresholds=(-30, +130)), \n",
        "\t\t\t\t  \"smd\" : partial(getDensity)\n",
        "\t\t\t\t }\n",
        "feat_list_1 = [\"sma\",\"smd\"]\n",
        "feat_list_2 = [\"sma\",\"smd\"]\n",
        "# Extract features from slices_processed\n",
        "feature_list_net = []\n",
        "feature_list_ours = []\n",
        "for i in range(0,len(ct_scans)):\n",
        "  feature_list_net.append([extractionDict[a](ct_scans[i], segment_pred[i], pixel_area_id[i]) for a in feat_list_1])\n",
        "  feature_list_ours.append([extractionDict[a](ct_scans[i], test_lab[i], pixel_area_id[i]) for a in feat_list_2])"
      ],
      "execution_count": null,
      "outputs": []
    },
    {
      "cell_type": "code",
      "metadata": {
        "colab": {
          "base_uri": "https://localhost:8080/"
        },
        "id": "4cKSPeRQUg-G",
        "outputId": "d83766f9-78e4-4f52-8b54-4f5e1283e631"
      },
      "source": [
        "print(\"Area, Density of nets predictions\", feature_list_net)\r\n",
        "print(\"Area, Density of ours\", feature_list_ours)"
      ],
      "execution_count": null,
      "outputs": [
        {
          "output_type": "stream",
          "text": [
            "Area, Density of nets predictions [[68.38769531250001, 0.48918115556224134], [73.8811492919922, 0.5042486492467536], [66.29943847656251, 0.5036560907438147], [38.75732421875001, 0.5010840832402559], [65.20271301269533, 0.493526191521018]]\n",
            "Area, Density of ours [[54.826171875000014, 0.5135760087944052], [60.272216796875014, 0.5261564195299684], [49.59106445312501, 0.5357057692300192], [25.901794433593754, 0.5251451714715758], [42.09518432617188, 0.5289737199825328]]\n"
          ],
          "name": "stdout"
        }
      ]
    },
    {
      "cell_type": "markdown",
      "metadata": {
        "id": "VvOlaL1BrCTg"
      },
      "source": [
        "#Sarcopenia Value"
      ]
    },
    {
      "cell_type": "markdown",
      "metadata": {
        "id": "8OsaiKyhyW8a"
      },
      "source": [
        "Looking at the skeletal muscle area. SMI."
      ]
    },
    {
      "cell_type": "code",
      "metadata": {
        "colab": {
          "base_uri": "https://localhost:8080/"
        },
        "id": "BnOAG60Nw2HH",
        "outputId": "f7d167bd-57b9-410a-857c-d0cf59c8402f"
      },
      "source": [
        "#smas = [f[0] for f in feature_list] #list way of doing it\n",
        "#for the network\n",
        "sma = np.array(feature_list_net)[:,0]\n",
        "mean_area = np.mean(sma)\n",
        "area_sd = ndimage.standard_deviation(sma)\n",
        "print(mean_area, \"cm^2 \", \"sd: \", area_sd)"
      ],
      "execution_count": null,
      "outputs": [
        {
          "output_type": "stream",
          "text": [
            "62.50566406250001 cm^2  sd:  12.244593896991116\n"
          ],
          "name": "stdout"
        }
      ]
    },
    {
      "cell_type": "code",
      "metadata": {
        "colab": {
          "base_uri": "https://localhost:8080/"
        },
        "id": "S0c_iNbwSC4m",
        "outputId": "cf953fd2-2baa-499e-e5f3-6f8e19c29cc8"
      },
      "source": [
        "#for our segments\r\n",
        "sma_ours = np.array(feature_list_ours)[:,0]\r\n",
        "mean_area_ours = np.mean(sma_ours)\r\n",
        "area_sd_ours = ndimage.standard_deviation(sma_ours)\r\n",
        "print(mean_area_ours, \"cm^2 \", \"sd: \", area_sd_ours)"
      ],
      "execution_count": null,
      "outputs": [
        {
          "output_type": "stream",
          "text": [
            "40.138588043677714 cm^2  sd:  12.54094648353225\n"
          ],
          "name": "stdout"
        }
      ]
    },
    {
      "cell_type": "markdown",
      "metadata": {
        "id": "OunmtvOYShbC"
      },
      "source": [
        "skeletal muscle density SMD"
      ]
    },
    {
      "cell_type": "code",
      "metadata": {
        "id": "WNlPEvwhycVa"
      },
      "source": [
        "smd = np.array(feature_list_net)[:,1]#sm attenuation\n",
        "mean_density = np.mean(smd)\n",
        "den_sd = ndimage.standard_deviation(smd)\n",
        "print(mean_density, \"HU\" ,\"sd\", den_sd)"
      ],
      "execution_count": null,
      "outputs": []
    },
    {
      "cell_type": "code",
      "metadata": {
        "colab": {
          "base_uri": "https://localhost:8080/"
        },
        "id": "9tZfLHxmSQMh",
        "outputId": "8b75fe2b-b9db-4e6e-e324-f41bd1013f14"
      },
      "source": [
        "smd_ours = np.array(feature_list_ours)[:,1]#sm attenuation\r\n",
        "mean_density_ours = np.mean(smd_ours)\r\n",
        "den_sd_ours = ndimage.standard_deviation(smd_ours)\r\n",
        "print(mean_density_ours, \"HU\" ,\"sd\", den_sd_ours)"
      ],
      "execution_count": null,
      "outputs": [
        {
          "output_type": "stream",
          "text": [
            "0.5259114178017004 HU sd 0.007184935479330131\n"
          ],
          "name": "stdout"
        }
      ]
    },
    {
      "cell_type": "markdown",
      "metadata": {
        "id": "GggYHr6vSp15"
      },
      "source": [
        "times them together?"
      ]
    },
    {
      "cell_type": "code",
      "metadata": {
        "colab": {
          "base_uri": "https://localhost:8080/"
        },
        "id": "scrGVCouSrqe",
        "outputId": "ddf17e90-774b-4776-d076-480b56f155b9"
      },
      "source": [
        "sarc = mean_area*mean_density\r\n",
        "sarc_ours = mean_area_ours*mean_density_ours\r\n",
        "print(\"sarc nets: \", sarc, \"unctertainty\", sarc*((area_sd/mean_area)+(den_sd/mean_density)))\r\n",
        "print(\"sarc ours: \", sarc_ours, \"unctertainty\",sarc_ours*((area_sd_ours/mean_area_ours)+(den_sd_ours/mean_density_ours)))"
      ],
      "execution_count": null,
      "outputs": [
        {
          "output_type": "stream",
          "text": [
            "sarc nets:  31.14902475349398 unctertainty 6.474654814582298\n",
            "sarc ours:  24.474490259147178 unctertainty 6.611182612294491\n"
          ],
          "name": "stdout"
        }
      ]
    }
  ]
}