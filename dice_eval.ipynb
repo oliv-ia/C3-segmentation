{
  "nbformat": 4,
  "nbformat_minor": 0,
  "metadata": {
    "colab": {
      "name": "dice_eval.ipynb",
      "provenance": [],
      "collapsed_sections": [
        "VgI0ao8NxoOt"
      ],
      "toc_visible": true,
      "include_colab_link": true
    },
    "kernelspec": {
      "name": "python3",
      "display_name": "Python 3"
    }
  },
  "cells": [
    {
      "cell_type": "markdown",
      "metadata": {
        "id": "view-in-github",
        "colab_type": "text"
      },
      "source": [
        "<a href=\"https://colab.research.google.com/github/oliv-ia/C3-segmentation/blob/main/dice_eval.ipynb\" target=\"_parent\"><img src=\"https://colab.research.google.com/assets/colab-badge.svg\" alt=\"Open In Colab\"/></a>"
      ]
    },
    {
      "cell_type": "markdown",
      "metadata": {
        "id": "VgI0ao8NxoOt"
      },
      "source": [
        "# Intro\n"
      ]
    },
    {
      "cell_type": "markdown",
      "metadata": {
        "id": "rawkScOlwpZE"
      },
      "source": [
        "This is to start playing with the cropped training data. Want to try and load it into a pretrained NN."
      ]
    },
    {
      "cell_type": "code",
      "metadata": {
        "id": "GncN9ZekwjGt",
        "colab": {
          "base_uri": "https://localhost:8080/"
        },
        "outputId": "70e80c28-7661-49a5-9d8c-17d1ae4a1168"
      },
      "source": [
        "!pip install SimpleITK"
      ],
      "execution_count": null,
      "outputs": [
        {
          "output_type": "stream",
          "text": [
            "Requirement already satisfied: SimpleITK in /usr/local/lib/python3.6/dist-packages (2.0.1)\n"
          ],
          "name": "stdout"
        }
      ]
    },
    {
      "cell_type": "markdown",
      "metadata": {
        "id": "sQ42Nw_JivCC"
      },
      "source": [
        "this was from a youtube tutorial - may not need"
      ]
    },
    {
      "cell_type": "code",
      "metadata": {
        "id": "snrTmD65UgAH",
        "colab": {
          "base_uri": "https://localhost:8080/"
        },
        "outputId": "9fc5f896-e6d7-4903-cc48-e1d9ea087e2c"
      },
      "source": [
        "!pip install torch===1.6.0 torchvision===0.7.0 -f https://download.pytorch.org/whl/torch_stable.html"
      ],
      "execution_count": null,
      "outputs": [
        {
          "output_type": "stream",
          "text": [
            "Looking in links: https://download.pytorch.org/whl/torch_stable.html\n",
            "Collecting torch===1.6.0\n",
            "\u001b[?25l  Downloading https://files.pythonhosted.org/packages/38/53/914885a93a44b96c0dd1c36f36ff10afe341f091230aad68f7228d61db1e/torch-1.6.0-cp36-cp36m-manylinux1_x86_64.whl (748.8MB)\n",
            "\u001b[K     |████████████████████████████████| 748.8MB 23kB/s \n",
            "\u001b[?25hCollecting torchvision===0.7.0\n",
            "\u001b[?25l  Downloading https://files.pythonhosted.org/packages/8e/dc/4a939cfbd38398f4765f712576df21425241020bfccc200af76d19088533/torchvision-0.7.0-cp36-cp36m-manylinux1_x86_64.whl (5.9MB)\n",
            "\u001b[K     |████████████████████████████████| 5.9MB 44.4MB/s \n",
            "\u001b[?25hRequirement already satisfied: future in /usr/local/lib/python3.6/dist-packages (from torch===1.6.0) (0.16.0)\n",
            "Requirement already satisfied: numpy in /usr/local/lib/python3.6/dist-packages (from torch===1.6.0) (1.18.5)\n",
            "Requirement already satisfied: pillow>=4.1.1 in /usr/local/lib/python3.6/dist-packages (from torchvision===0.7.0) (7.0.0)\n",
            "Installing collected packages: torch, torchvision\n",
            "  Found existing installation: torch 1.7.0+cu101\n",
            "    Uninstalling torch-1.7.0+cu101:\n",
            "      Successfully uninstalled torch-1.7.0+cu101\n",
            "  Found existing installation: torchvision 0.8.1+cu101\n",
            "    Uninstalling torchvision-0.8.1+cu101:\n",
            "      Successfully uninstalled torchvision-0.8.1+cu101\n",
            "Successfully installed torch-1.6.0 torchvision-0.7.0\n"
          ],
          "name": "stdout"
        }
      ]
    },
    {
      "cell_type": "markdown",
      "metadata": {
        "id": "6_OzWFCgizRb"
      },
      "source": [
        "this one we do need."
      ]
    },
    {
      "cell_type": "code",
      "metadata": {
        "id": "nGBSipfDitC9",
        "colab": {
          "base_uri": "https://localhost:8080/"
        },
        "outputId": "7ce4e01c-730c-46cf-b17c-c24ab2100332"
      },
      "source": [
        "!pip install pytorch-lightning"
      ],
      "execution_count": null,
      "outputs": [
        {
          "output_type": "stream",
          "text": [
            "Collecting pytorch-lightning\n",
            "\u001b[?25l  Downloading https://files.pythonhosted.org/packages/3a/b2/893f6f28700d591b77cfaa05c9c0809f95917eaa318fc83b31b84b05764a/pytorch_lightning-1.0.6-py3-none-any.whl (548kB)\n",
            "\u001b[K     |████████████████████████████████| 552kB 8.0MB/s \n",
            "\u001b[?25hCollecting fsspec>=0.8.0\n",
            "\u001b[?25l  Downloading https://files.pythonhosted.org/packages/a5/8b/1df260f860f17cb08698170153ef7db672c497c1840dcc8613ce26a8a005/fsspec-0.8.4-py3-none-any.whl (91kB)\n",
            "\u001b[K     |████████████████████████████████| 92kB 5.8MB/s \n",
            "\u001b[?25hRequirement already satisfied: torch>=1.3 in /usr/local/lib/python3.6/dist-packages (from pytorch-lightning) (1.6.0)\n",
            "Requirement already satisfied: numpy>=1.16.4 in /usr/local/lib/python3.6/dist-packages (from pytorch-lightning) (1.18.5)\n",
            "Collecting PyYAML>=5.1\n",
            "\u001b[?25l  Downloading https://files.pythonhosted.org/packages/64/c2/b80047c7ac2478f9501676c988a5411ed5572f35d1beff9cae07d321512c/PyYAML-5.3.1.tar.gz (269kB)\n",
            "\u001b[K     |████████████████████████████████| 276kB 13.6MB/s \n",
            "\u001b[?25hRequirement already satisfied: tensorboard>=2.2.0 in /usr/local/lib/python3.6/dist-packages (from pytorch-lightning) (2.3.0)\n",
            "Requirement already satisfied: tqdm>=4.41.0 in /usr/local/lib/python3.6/dist-packages (from pytorch-lightning) (4.41.1)\n",
            "Collecting future>=0.17.1\n",
            "\u001b[?25l  Downloading https://files.pythonhosted.org/packages/45/0b/38b06fd9b92dc2b68d58b75f900e97884c45bedd2ff83203d933cf5851c9/future-0.18.2.tar.gz (829kB)\n",
            "\u001b[K     |████████████████████████████████| 829kB 15.1MB/s \n",
            "\u001b[?25hRequirement already satisfied: google-auth-oauthlib<0.5,>=0.4.1 in /usr/local/lib/python3.6/dist-packages (from tensorboard>=2.2.0->pytorch-lightning) (0.4.2)\n",
            "Requirement already satisfied: absl-py>=0.4 in /usr/local/lib/python3.6/dist-packages (from tensorboard>=2.2.0->pytorch-lightning) (0.10.0)\n",
            "Requirement already satisfied: protobuf>=3.6.0 in /usr/local/lib/python3.6/dist-packages (from tensorboard>=2.2.0->pytorch-lightning) (3.12.4)\n",
            "Requirement already satisfied: six>=1.10.0 in /usr/local/lib/python3.6/dist-packages (from tensorboard>=2.2.0->pytorch-lightning) (1.15.0)\n",
            "Requirement already satisfied: wheel>=0.26; python_version >= \"3\" in /usr/local/lib/python3.6/dist-packages (from tensorboard>=2.2.0->pytorch-lightning) (0.35.1)\n",
            "Requirement already satisfied: werkzeug>=0.11.15 in /usr/local/lib/python3.6/dist-packages (from tensorboard>=2.2.0->pytorch-lightning) (1.0.1)\n",
            "Requirement already satisfied: google-auth<2,>=1.6.3 in /usr/local/lib/python3.6/dist-packages (from tensorboard>=2.2.0->pytorch-lightning) (1.17.2)\n",
            "Requirement already satisfied: grpcio>=1.24.3 in /usr/local/lib/python3.6/dist-packages (from tensorboard>=2.2.0->pytorch-lightning) (1.33.2)\n",
            "Requirement already satisfied: requests<3,>=2.21.0 in /usr/local/lib/python3.6/dist-packages (from tensorboard>=2.2.0->pytorch-lightning) (2.23.0)\n",
            "Requirement already satisfied: setuptools>=41.0.0 in /usr/local/lib/python3.6/dist-packages (from tensorboard>=2.2.0->pytorch-lightning) (50.3.2)\n",
            "Requirement already satisfied: markdown>=2.6.8 in /usr/local/lib/python3.6/dist-packages (from tensorboard>=2.2.0->pytorch-lightning) (3.3.3)\n",
            "Requirement already satisfied: tensorboard-plugin-wit>=1.6.0 in /usr/local/lib/python3.6/dist-packages (from tensorboard>=2.2.0->pytorch-lightning) (1.7.0)\n",
            "Requirement already satisfied: requests-oauthlib>=0.7.0 in /usr/local/lib/python3.6/dist-packages (from google-auth-oauthlib<0.5,>=0.4.1->tensorboard>=2.2.0->pytorch-lightning) (1.3.0)\n",
            "Requirement already satisfied: pyasn1-modules>=0.2.1 in /usr/local/lib/python3.6/dist-packages (from google-auth<2,>=1.6.3->tensorboard>=2.2.0->pytorch-lightning) (0.2.8)\n",
            "Requirement already satisfied: cachetools<5.0,>=2.0.0 in /usr/local/lib/python3.6/dist-packages (from google-auth<2,>=1.6.3->tensorboard>=2.2.0->pytorch-lightning) (4.1.1)\n",
            "Requirement already satisfied: rsa<5,>=3.1.4; python_version >= \"3\" in /usr/local/lib/python3.6/dist-packages (from google-auth<2,>=1.6.3->tensorboard>=2.2.0->pytorch-lightning) (4.6)\n",
            "Requirement already satisfied: urllib3!=1.25.0,!=1.25.1,<1.26,>=1.21.1 in /usr/local/lib/python3.6/dist-packages (from requests<3,>=2.21.0->tensorboard>=2.2.0->pytorch-lightning) (1.24.3)\n",
            "Requirement already satisfied: idna<3,>=2.5 in /usr/local/lib/python3.6/dist-packages (from requests<3,>=2.21.0->tensorboard>=2.2.0->pytorch-lightning) (2.10)\n",
            "Requirement already satisfied: certifi>=2017.4.17 in /usr/local/lib/python3.6/dist-packages (from requests<3,>=2.21.0->tensorboard>=2.2.0->pytorch-lightning) (2020.6.20)\n",
            "Requirement already satisfied: chardet<4,>=3.0.2 in /usr/local/lib/python3.6/dist-packages (from requests<3,>=2.21.0->tensorboard>=2.2.0->pytorch-lightning) (3.0.4)\n",
            "Requirement already satisfied: importlib-metadata; python_version < \"3.8\" in /usr/local/lib/python3.6/dist-packages (from markdown>=2.6.8->tensorboard>=2.2.0->pytorch-lightning) (2.0.0)\n",
            "Requirement already satisfied: oauthlib>=3.0.0 in /usr/local/lib/python3.6/dist-packages (from requests-oauthlib>=0.7.0->google-auth-oauthlib<0.5,>=0.4.1->tensorboard>=2.2.0->pytorch-lightning) (3.1.0)\n",
            "Requirement already satisfied: pyasn1<0.5.0,>=0.4.6 in /usr/local/lib/python3.6/dist-packages (from pyasn1-modules>=0.2.1->google-auth<2,>=1.6.3->tensorboard>=2.2.0->pytorch-lightning) (0.4.8)\n",
            "Requirement already satisfied: zipp>=0.5 in /usr/local/lib/python3.6/dist-packages (from importlib-metadata; python_version < \"3.8\"->markdown>=2.6.8->tensorboard>=2.2.0->pytorch-lightning) (3.4.0)\n",
            "Building wheels for collected packages: PyYAML, future\n",
            "  Building wheel for PyYAML (setup.py) ... \u001b[?25l\u001b[?25hdone\n",
            "  Created wheel for PyYAML: filename=PyYAML-5.3.1-cp36-cp36m-linux_x86_64.whl size=44619 sha256=cff57c2216ebd9ea0e9885d9214fb247809649cb069fea313507cb13aad6285d\n",
            "  Stored in directory: /root/.cache/pip/wheels/a7/c1/ea/cf5bd31012e735dc1dfea3131a2d5eae7978b251083d6247bd\n",
            "  Building wheel for future (setup.py) ... \u001b[?25l\u001b[?25hdone\n",
            "  Created wheel for future: filename=future-0.18.2-cp36-none-any.whl size=491057 sha256=142a6dca3fe63f0f53b72b3bf1aeaab27642bae1d78755521e0aad85286d293b\n",
            "  Stored in directory: /root/.cache/pip/wheels/8b/99/a0/81daf51dcd359a9377b110a8a886b3895921802d2fc1b2397e\n",
            "Successfully built PyYAML future\n",
            "Installing collected packages: fsspec, PyYAML, future, pytorch-lightning\n",
            "  Found existing installation: PyYAML 3.13\n",
            "    Uninstalling PyYAML-3.13:\n",
            "      Successfully uninstalled PyYAML-3.13\n",
            "  Found existing installation: future 0.16.0\n",
            "    Uninstalling future-0.16.0:\n",
            "      Successfully uninstalled future-0.16.0\n",
            "Successfully installed PyYAML-5.3.1 fsspec-0.8.4 future-0.18.2 pytorch-lightning-1.0.6\n"
          ],
          "name": "stdout"
        }
      ]
    },
    {
      "cell_type": "code",
      "metadata": {
        "id": "JhVb5UCGe0vH"
      },
      "source": [
        "import matplotlib.pyplot as plt\n",
        "%matplotlib inline\n",
        "import SimpleITK as sitk\n",
        "import numpy as np\n",
        "import os\n",
        "from scipy import ndimage\n",
        "import cv2\n",
        "from google.colab.patches import cv2_imshow\n",
        "import torch"
      ],
      "execution_count": null,
      "outputs": []
    },
    {
      "cell_type": "markdown",
      "metadata": {
        "id": "AhBdJdJvZGAn"
      },
      "source": [
        "Function to print training data from the dictionary"
      ]
    },
    {
      "cell_type": "code",
      "metadata": {
        "id": "Fid0rh6KZKps"
      },
      "source": [
        "def printTrainingData(patient_number):\n",
        "  if patient_number == 24 or patient_number == 25:\n",
        "    print(\"not valid patient number\")\n",
        "  elif patient_number in range(1,28):\n",
        "    if patient_number > 24: \n",
        "      patient_number = patient_number - 2\n",
        "    print(\"HNSCC Patient \" + str(ids[patient_number-1]))\n",
        "    plt.imshow(slices[patient_number-1], cmap=plt.cm.gray, vmin=(level/2 - window), vmax=(level/2 + window))\n",
        "    masks[patient_number-1][masks[patient_number-1] == 0] = np.nan\n",
        "    plt.imshow(masks[patient_number-1], cmap=plt.cm.autumn, alpha = 0.4)\n",
        "    plt.show()\n",
        "  else:\n",
        "    print(\"not valid patient number\")"
      ],
      "execution_count": null,
      "outputs": []
    },
    {
      "cell_type": "code",
      "metadata": {
        "id": "EWAZoBCQzvsq"
      },
      "source": [
        "def PrintTrainingDataLiv(slicef_array, maskf_array, idf_array, i ):\n",
        "  print(\"HNSCC Patient \" + str(idf_array[i]))\n",
        "  plt.imshow(slicef_array[i], cmap = plt.cm.gray, vmin = level/2 - window, vmax = level/2 + window)\n",
        "  seg_slice = maskf_array[i]\n",
        "  seg_slice = seg_slice.astype(float)\n",
        "  seg_slice[seg_slice == 0] = np.nan\n",
        "  plt.imshow(seg_slice, cmap = plt.cm.autumn, alpha = 0.6)"
      ],
      "execution_count": null,
      "outputs": []
    },
    {
      "cell_type": "code",
      "metadata": {
        "id": "XIRlkSVYs_GV"
      },
      "source": [
        "def printTrainingDataForPatient(patient_number):\n",
        "  if patient_number == 24 or patient_number == 25: \n",
        "    print(\"not valid patient number\")\n",
        "  elif patient_number in range(1,28):\n",
        "    if patient_number > 25: \n",
        "      patient_number = patient_number - 2\n",
        "    print(\"HNSCC Patient \" + str(id_array[patient_number-1]))\n",
        "    plt.imshow(slices_array[patient_number-1], cmap=plt.cm.gray, vmin=(level/2 - window), vmax=(level/2 + window))\n",
        "    mask_array[patient_number-1][mask_array[patient_number-1] == 0] = np.nan\n",
        "    plt.imshow(mask_array[patient_number-1], cmap=plt.cm.autumn, alpha = 0.4)\n",
        "    plt.show()\n",
        "  else:\n",
        "    print(\"not valid patient number\")"
      ],
      "execution_count": null,
      "outputs": []
    },
    {
      "cell_type": "markdown",
      "metadata": {
        "id": "7-82U7wLkdbp"
      },
      "source": [
        "Function to determine the average pixel value within the segment"
      ]
    },
    {
      "cell_type": "code",
      "metadata": {
        "id": "BlxOje7Zklll"
      },
      "source": [
        "def AveragePixelValue(patient_number):\n",
        "  tot_segmented_pixels_value = 0;\n",
        "  slices = data['slices']\n",
        "  masks = data['masks']\n",
        "  ids = data['ids']\n",
        "  if patient_number == 24 or patient_number == 25:\n",
        "    print(\"not valid patient number\")\n",
        "  elif patient_number in range(1,28):\n",
        "    #for i in range(0,len(masks[patient_number - 1])):\n",
        "    for i in np.nditer(masks[patient_number - 1], order = 'C'):\n",
        "      if i != 0:\n",
        "        val = np.sum(slices[patient_number-1][int(i)])\n",
        "      #if masks[patient_number-1][i != 0]:\n",
        "        tot_segmented_pixels_value += slices[patient_number-1][int(i)]\n",
        "  else:\n",
        "    print(\"not valid patient number\")\n",
        "  print(val/len(masks[patient_number - 1]))\n",
        "  return tot_segmented_pixels_value\n",
        "  \n"
      ],
      "execution_count": null,
      "outputs": []
    },
    {
      "cell_type": "markdown",
      "metadata": {
        "id": "rBh__Rx9jHtO"
      },
      "source": [
        "Dice evaluator from Andrew. "
      ]
    },
    {
      "cell_type": "code",
      "metadata": {
        "id": "2H-fsLkIjGeN"
      },
      "source": [
        "def eval_dice(true, pred):\n",
        "    evaluator = sitk.LabelOverlapMeasuresImageFilter()\n",
        "    a_t_im = sitk.GetImageFromArray(true)\n",
        "    t_p_im = sitk.GetImageFromArray(pred)\n",
        "    evaluator.Execute(a_t_im, t_p_im)#a_t_im, t_p_im\n",
        "    return evaluator.GetDiceCoefficient()\n"
      ],
      "execution_count": null,
      "outputs": []
    },
    {
      "cell_type": "markdown",
      "metadata": {
        "id": "3Q4cjzEk139f"
      },
      "source": [
        "Liv's dice eval function that she found on the internet (get link)"
      ]
    },
    {
      "cell_type": "code",
      "metadata": {
        "id": "rOOndd79126q"
      },
      "source": [
        "def diceCoeff(pred, gt, smooth=1, activation='sigmoid'):\n",
        "    r\"\"\" computational formula：\n",
        "        dice = (2 * (pred ∩ gt)) / (pred ∪ gt)\n",
        "    \"\"\"\n",
        " \n",
        "    if activation is None or activation == \"none\":\n",
        "        activation_fn = lambda x: x\n",
        "    elif activation == \"sigmoid\":\n",
        "        activation_fn = nn.Sigmoid()\n",
        "    elif activation == \"softmax2d\":\n",
        "        activation_fn = nn.Softmax2d()\n",
        "    else:\n",
        "                 raise NotImplementedError(\"Activation implemented for sigmoid and softmax2d activation function operation\")\n",
        " \n",
        "    pred = activation_fn(pred)\n",
        " \n",
        "    N = gt.size(0)\n",
        "    pred_flat = pred.view(N, -1)\n",
        "    gt_flat = gt.view(N, -1)\n",
        " \n",
        "    intersection = (pred_flat * gt_flat).sum(1)\n",
        "    unionset = pred_flat.sum(1) + gt_flat.sum(1)\n",
        "    \n",
        "    loss = (2 * intersection + smooth) / (unionset + smooth)\n",
        " \n",
        "    return loss.sum() / N"
      ],
      "execution_count": null,
      "outputs": []
    },
    {
      "cell_type": "markdown",
      "metadata": {
        "id": "sJUTr8HnjKGZ"
      },
      "source": [
        "Set the window and level here. 50:350HU for soft tissue"
      ]
    },
    {
      "cell_type": "markdown",
      "metadata": {
        "id": "aeb5KODlXhP6"
      },
      "source": [
        "#Dice Evaluator\n",
        " "
      ]
    },
    {
      "cell_type": "code",
      "metadata": {
        "id": "HKdpgJ3J33s5"
      },
      "source": [
        "data = np.load(\"/content/training_data_cropped.npz\", allow_pickle=True)"
      ],
      "execution_count": null,
      "outputs": []
    },
    {
      "cell_type": "code",
      "metadata": {
        "id": "EhrtWCM7p3CO"
      },
      "source": [
        "slices_h = data['slices']\n",
        "masks_h = data['masks']\n",
        "ids_h = data['ids']"
      ],
      "execution_count": null,
      "outputs": []
    },
    {
      "cell_type": "code",
      "metadata": {
        "id": "qc9SUtkzzUSn"
      },
      "source": [
        "data_liv = np.load(\"/content/liv_training_data_cropped.npz\", allow_pickle=True)\n",
        "slices_L = data_liv['slices']\n",
        "masks_L = data_liv['masks']\n",
        "ids_L = data_liv['ids']"
      ],
      "execution_count": null,
      "outputs": []
    },
    {
      "cell_type": "markdown",
      "metadata": {
        "id": "UdfEnB8azmBO"
      },
      "source": [
        "compare mine and Liv's segs"
      ]
    },
    {
      "cell_type": "code",
      "metadata": {
        "id": "WRio3GPzztpq"
      },
      "source": [
        "print(masks_L[1].dtype)\n",
        "print(masks_L[0].shape)\n",
        "plt.imshow(masks_L[1])\n",
        "masks = masks.astype(np.int8)\n",
        "eval_dice(masks[1], masks[2])\n",
        "import torch\n",
        "Masks_L = torch.from_numpy(masks_L.astype(np.int16))\n",
        "Masks_H = torch.from_numpy(masks_H.astype(np.int16))\n",
        "#eval_dice(masks_L[1], masks_L[1])\n",
        "print((Masks_H[2].dtype))\n",
        "\n",
        "print(Masks_L[2].dtype)\n",
        "dice_array = []\n",
        "dice_c = diceCoeff(Masks_H[:, 0:1, :], Masks_L[:, 0:1, :], smooth=1, activation=None)\n",
        "for i in range(0,25):\n",
        "   dice_b = diceCoeff(Masks_H[i], Masks_L[i], smooth=1, activation=None)\n",
        "   print(i , 'smooth=1 : dice={:.4}'.format(dice_b.item()))\n",
        "   dice_array.append(dice_b.item())\n",
        "\n",
        "print(dice_array)\n",
        "mean = sum(dice_array)/len(dice_array)\n",
        "print(mean)"
      ],
      "execution_count": null,
      "outputs": []
    },
    {
      "cell_type": "markdown",
      "metadata": {
        "id": "dkYKOrU7j1r2"
      },
      "source": [
        "Printing the training data"
      ]
    },
    {
      "cell_type": "code",
      "metadata": {
        "id": "k9TbfM9jj0uL",
        "colab": {
          "base_uri": "https://localhost:8080/",
          "height": 286
        },
        "outputId": "e6f2e410-00e5-410d-8abc-a28a0063dccb"
      },
      "source": [
        "printTrainingData(13)"
      ],
      "execution_count": null,
      "outputs": [
        {
          "output_type": "stream",
          "text": [
            "HNSCC Patient 01-0013\n"
          ],
          "name": "stdout"
        },
        {
          "output_type": "display_data",
          "data": {
            "image/png": "[encoded data removed]",
            "text/plain": [
              "<Figure size 432x288 with 1 Axes>"
            ]
          },
          "metadata": {
            "tags": [],
            "needs_background": "light"
          }
        }
      ]
    }
  ]
}